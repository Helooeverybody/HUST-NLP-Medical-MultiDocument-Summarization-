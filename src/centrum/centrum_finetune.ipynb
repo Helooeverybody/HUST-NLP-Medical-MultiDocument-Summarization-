{
 "cells": [
  {
   "cell_type": "code",
   "execution_count": 3,
   "metadata": {},
   "outputs": [
    {
     "name": "stdout",
     "output_type": "stream",
     "text": [
      "e:\\pyenv\\GTCC\\KPG-RL\\HUST-NLP-Medical-MultiDocument-Summarization-\n"
     ]
    }
   ],
   "source": [
    "import os\n",
    "\n",
    "if os.path.basename(os.getcwd()) != 'HUST-NLP-Medical-MultiDocument-Summarization-':\n",
    "    %cd ../../"
   ]
  },
  {
   "cell_type": "code",
   "execution_count": 4,
   "metadata": {},
   "outputs": [],
   "source": [
    "from sklearn.model_selection import train_test_split\n",
    "import numpy as np\n",
    "import pandas as pd\n",
    "from torch.utils.data import Dataset\n",
    "from transformers import LEDForConditionalGeneration\n",
    "from transformers import AutoModelForSeq2SeqLM, Seq2SeqTrainer, Seq2SeqTrainingArguments, AutoTokenizer\n",
    "import torch\n",
    "from sklearn.metrics import accuracy_score,precision_score,recall_score,f1_score\n",
    "from tqdm.notebook import tqdm"
   ]
  },
  {
   "cell_type": "code",
   "execution_count": 5,
   "metadata": {},
   "outputs": [
    {
     "data": {
      "text/plain": [
       "device(type='cuda')"
      ]
     },
     "execution_count": 5,
     "metadata": {},
     "output_type": "execute_result"
    }
   ],
   "source": [
    "RANDOM_SEED = 42\n",
    "device = torch.device(\"cuda\" if torch.cuda.is_available() else \"cpu\")\n",
    "device"
   ]
  },
  {
   "cell_type": "code",
   "execution_count": 6,
   "metadata": {},
   "outputs": [],
   "source": [
    "PATH = 'ratishsp/Centrum'\n",
    "tokenizer = AutoTokenizer.from_pretrained(PATH)"
   ]
  },
  {
   "cell_type": "code",
   "execution_count": 5,
   "metadata": {},
   "outputs": [],
   "source": [
    "model = AutoModelForSeq2SeqLM.from_pretrained(PATH)"
   ]
  },
  {
   "cell_type": "code",
   "execution_count": 7,
   "metadata": {},
   "outputs": [],
   "source": [
    "DOC_SEP_ = \"<doc-sep>\"\n",
    "docsep_token_id = tokenizer.convert_tokens_to_ids(DOC_SEP_)"
   ]
  },
  {
   "cell_type": "code",
   "execution_count": 16,
   "metadata": {},
   "outputs": [],
   "source": [
    "import evaluate\n",
    "\n",
    "rouge = evaluate.load('rouge')\n",
    "bertscore = evaluate.load('bertscore')\n",
    "\n",
    "def compute_metrics(pred):\n",
    "    labels_ids = pred.label_ids\n",
    "    pred_ids = pred.predictions\n",
    "    pred_ids[pred_ids == -100] = tokenizer.pad_token_id\n",
    "    pred_str = tokenizer.batch_decode(pred_ids, skip_special_tokens=True)\n",
    "    labels_ids[labels_ids == -100] = tokenizer.pad_token_id\n",
    "    label_str = tokenizer.batch_decode(labels_ids, skip_special_tokens=True)\n",
    "\n",
    "    rouge_output = rouge.compute(\n",
    "        predictions=pred_str, references=label_str\n",
    "    )\n",
    "    \n",
    "    bertscore_output = bertscore.compute(\n",
    "        predictions=pred_str, references=label_str, lang='en', \n",
    "    )\n",
    "    \n",
    "    bertscore_output = {a:sum(x)/len(x) for a,x in bertscore_output.items() if a in ['precision', 'recall', 'f1']}\n",
    "    \n",
    "    final_output = {**rouge_output, **bertscore_output}\n",
    "\n",
    "\n",
    "    return final_output"
   ]
  },
  {
   "cell_type": "code",
   "execution_count": 8,
   "metadata": {},
   "outputs": [],
   "source": [
    "class Medical_Dataset(Dataset):\n",
    "    def __init__(self,tokenizer:AutoTokenizer,train_data,train_label):\n",
    "        self.data = train_data\n",
    "        self.label = train_label\n",
    "        self.tokenizer = tokenizer\n",
    "        \n",
    "    def __len__(self):\n",
    "        return self.label.shape[0]\n",
    "    \n",
    "    def __getitem__(self,id):\n",
    "        sentence = self.data.at[id,'Abstracts']\n",
    "        target = self.label.at[id,'Target']\n",
    "        encoding = self.tokenizer(sentence, return_tensors='pt', padding='max_length', truncation=True, max_length=4096)\n",
    "        target_encoding = self.tokenizer(target, return_tensors='pt', padding='max_length', truncation=True, max_length=1024)\n",
    "        global_attention_mask = [[1 if y in [tokenizer.cls_token_id, docsep_token_id] else 0 for y in x]\n",
    "                                                 for x in encoding['input_ids']]\n",
    "        return {\n",
    "            'input_ids': encoding['input_ids'].squeeze(0), # Squeeze to remove the extra dimension\n",
    "            'attention_mask': encoding['attention_mask'].squeeze(0),\n",
    "            'labels': target_encoding['input_ids'].squeeze(0),\n",
    "            'global_attention_mask': torch.tensor(global_attention_mask).squeeze(0),\n",
    "        }"
   ]
  },
  {
   "cell_type": "code",
   "execution_count": 9,
   "metadata": {},
   "outputs": [],
   "source": [
    "ms2_train_input = pd.read_csv(\"datasets/mslr_data/ms2/train-inputs.csv\")\n",
    "ms2_train_input[\"Abstract\"].fillna(\"\",inplace = True)\n",
    "ms2_train_input = ms2_train_input.groupby('ReviewID').apply(lambda group: f\"{DOC_SEP_}\".join(group['Abstract'].tolist()) + f\"{DOC_SEP_}\").reset_index(name = \"Abstracts\")\n",
    "ms2_train_target = pd.read_csv(\"datasets/mslr_data/ms2/train-targets.csv\")\n",
    "cochrane_train_input = pd.read_csv(\"datasets/mslr_data/cochrane/train-inputs.csv\")\n",
    "cochrane_train_input[\"Abstract\"].fillna(\"\",inplace = True)\n",
    "cochrane_train_input = cochrane_train_input.groupby('ReviewID').apply(lambda group: f\"{DOC_SEP_}\".join(group['Abstract'].tolist()) + f\"{DOC_SEP_}\").reset_index(name = \"Abstracts\")\n",
    "cochrane_train_target = pd.read_csv(\"datasets/mslr_data/cochrane/train-targets.csv\")\n",
    "k = pd.concat([ms2_train_input,cochrane_train_input])\n",
    "k = k.iloc[0:2,:]\n",
    "del ms2_train_input,cochrane_train_input\n",
    "kk = pd.concat([ms2_train_target,cochrane_train_target])\n",
    "kk = kk.iloc[0:2,:]\n",
    "del ms2_train_target,cochrane_train_target\n",
    "train_dataset = Medical_Dataset(tokenizer,k,kk)\n",
    "\n",
    "ms2_dev_input = pd.read_csv(\"datasets/mslr_data/ms2/dev-inputs.csv\")\n",
    "ms2_dev_input[\"Abstract\"].fillna(\"\",inplace = True)\n",
    "ms2_dev_input = ms2_dev_input.groupby('ReviewID').apply(lambda group: f\"{DOC_SEP_}\".join(group['Abstract'].tolist()) + f\"{DOC_SEP_}\").reset_index(name = \"Abstracts\")\n",
    "ms2_dev_target = pd.read_csv(\"datasets/mslr_data/ms2/dev-targets.csv\")\n",
    "cochrane_dev_input = pd.read_csv(\"datasets/mslr_data/cochrane/dev-inputs.csv\")\n",
    "cochrane_dev_input[\"Abstract\"].fillna(\"\",inplace = True)\n",
    "cochrane_dev_input = cochrane_dev_input.groupby('ReviewID').apply(lambda group: f\"{DOC_SEP_}\".join(group['Abstract'].tolist()) + f\"{DOC_SEP_}\").reset_index(name = \"Abstracts\")\n",
    "cochrane_dev_target = pd.read_csv(\"datasets/mslr_data/cochrane/dev-targets.csv\")\n",
    "kkk = pd.concat([ms2_dev_input,cochrane_dev_input])\n",
    "kkk = kkk.iloc[0:2,:]\n",
    "del ms2_dev_input,cochrane_dev_input\n",
    "kkkk = pd.concat([ms2_dev_target,cochrane_dev_target])\n",
    "kkkk = kkkk.iloc[0:2,:]\n",
    "del ms2_dev_target,cochrane_dev_target\n",
    "test_dataset = Medical_Dataset(tokenizer,kkk,kkkk)"
   ]
  },
  {
   "cell_type": "code",
   "execution_count": 10,
   "metadata": {},
   "outputs": [
    {
     "data": {
      "text/plain": [
       "(2, 2)"
      ]
     },
     "execution_count": 10,
     "metadata": {},
     "output_type": "execute_result"
    }
   ],
   "source": [
    "len(train_dataset), len(test_dataset)"
   ]
  },
  {
   "cell_type": "code",
   "execution_count": 14,
   "metadata": {},
   "outputs": [],
   "source": [
    "pred = train_dataset[0]['input_ids']\n",
    "ref = train_dataset[0]['labels']"
   ]
  },
  {
   "cell_type": "code",
   "execution_count": 10,
   "metadata": {},
   "outputs": [],
   "source": [
    "import wandb"
   ]
  },
  {
   "cell_type": "code",
   "execution_count": null,
   "metadata": {},
   "outputs": [],
   "source": [
    "learning_rate = 1e-5\n",
    "epochs = 5"
   ]
  },
  {
   "cell_type": "code",
   "execution_count": null,
   "metadata": {},
   "outputs": [],
   "source": [
    "wandb.init()\n",
    "#api_key = \"b837839166bd4f97a07e90a26fa965ee17f8b64f\""
   ]
  },
  {
   "cell_type": "code",
   "execution_count": 13,
   "metadata": {},
   "outputs": [
    {
     "name": "stderr",
     "output_type": "stream",
     "text": [
      "c:\\Users\\tungv\\AppData\\Local\\Programs\\Python\\Python311\\Lib\\site-packages\\transformers\\training_args.py:1575: FutureWarning: `evaluation_strategy` is deprecated and will be removed in version 4.46 of 🤗 Transformers. Use `eval_strategy` instead\n",
      "  warnings.warn(\n",
      "C:\\Users\\tungv\\AppData\\Local\\Temp\\ipykernel_27408\\3897758670.py:21: FutureWarning: `tokenizer` is deprecated and will be removed in version 5.0.0 for `Seq2SeqTrainer.__init__`. Use `processing_class` instead.\n",
      "  trainer = Seq2SeqTrainer(\n"
     ]
    }
   ],
   "source": [
    "training_args = Seq2SeqTrainingArguments(\n",
    "    output_dir='./results',      \n",
    "    num_train_epochs=epochs,            \n",
    "    per_device_train_batch_size=1, \n",
    "    per_device_eval_batch_size=1,  \n",
    "    warmup_steps=500,              \n",
    "    weight_decay=0.01,               \n",
    "    logging_dir='./logs',            \n",
    "    logging_steps=10,\n",
    "    save_steps=10,\n",
    "    eval_steps=10,\n",
    "    evaluation_strategy=\"steps\",\n",
    "    save_total_limit=2,\n",
    "    load_best_model_at_end=True,\n",
    "    metric_for_best_model=\"eval_loss\",\n",
    "    greater_is_better=False,\n",
    "    report_to = \"wandb\",\n",
    "    predict_with_generate=True,\n",
    "    learning_rate=learning_rate,\n",
    ")\n",
    "\n",
    "trainer = Seq2SeqTrainer(\n",
    "    model=model,\n",
    "    args=training_args,\n",
    "    train_dataset=train_dataset,\n",
    "    eval_dataset=test_dataset,\n",
    "    tokenizer=tokenizer,\n",
    "    compute_metrics=compute_metrics,\n",
    "    \n",
    "    )"
   ]
  },
  {
   "cell_type": "code",
   "execution_count": 14,
   "metadata": {},
   "outputs": [
    {
     "name": "stderr",
     "output_type": "stream",
     "text": [
      "\u001b[34m\u001b[1mwandb\u001b[0m: \u001b[33mWARNING\u001b[0m The `run_name` is currently set to the same value as `TrainingArguments.output_dir`. If this was not intended, please specify a different run name by setting the `TrainingArguments.run_name` parameter.\n",
      "\u001b[34m\u001b[1mwandb\u001b[0m: Using wandb-core as the SDK backend.  Please refer to https://wandb.me/wandb-core for more information.\n",
      "\u001b[34m\u001b[1mwandb\u001b[0m: Currently logged in as: \u001b[33msylvis\u001b[0m (\u001b[33msylvis-hanoi-university-of-science-and-technology\u001b[0m). Use \u001b[1m`wandb login --relogin`\u001b[0m to force relogin\n"
     ]
    },
    {
     "data": {
      "text/html": [
       "Tracking run with wandb version 0.19.0"
      ],
      "text/plain": [
       "<IPython.core.display.HTML object>"
      ]
     },
     "metadata": {},
     "output_type": "display_data"
    },
    {
     "data": {
      "text/html": [
       "Run data is saved locally in <code>e:\\pyenv\\GTCC\\KPG-RL\\HUST-NLP-Medical-MultiDocument-Summarization-\\wandb\\run-20250307_164720-bn1jqok5</code>"
      ],
      "text/plain": [
       "<IPython.core.display.HTML object>"
      ]
     },
     "metadata": {},
     "output_type": "display_data"
    },
    {
     "data": {
      "text/html": [
       "Syncing run <strong><a href='https://wandb.ai/sylvis-hanoi-university-of-science-and-technology/huggingface/runs/bn1jqok5' target=\"_blank\">./results</a></strong> to <a href='https://wandb.ai/sylvis-hanoi-university-of-science-and-technology/huggingface' target=\"_blank\">Weights & Biases</a> (<a href='https://wandb.me/developer-guide' target=\"_blank\">docs</a>)<br/>"
      ],
      "text/plain": [
       "<IPython.core.display.HTML object>"
      ]
     },
     "metadata": {},
     "output_type": "display_data"
    },
    {
     "data": {
      "text/html": [
       " View project at <a href='https://wandb.ai/sylvis-hanoi-university-of-science-and-technology/huggingface' target=\"_blank\">https://wandb.ai/sylvis-hanoi-university-of-science-and-technology/huggingface</a>"
      ],
      "text/plain": [
       "<IPython.core.display.HTML object>"
      ]
     },
     "metadata": {},
     "output_type": "display_data"
    },
    {
     "data": {
      "text/html": [
       " View run at <a href='https://wandb.ai/sylvis-hanoi-university-of-science-and-technology/huggingface/runs/bn1jqok5' target=\"_blank\">https://wandb.ai/sylvis-hanoi-university-of-science-and-technology/huggingface/runs/bn1jqok5</a>"
      ],
      "text/plain": [
       "<IPython.core.display.HTML object>"
      ]
     },
     "metadata": {},
     "output_type": "display_data"
    },
    {
     "data": {
      "application/vnd.jupyter.widget-view+json": {
       "model_id": "3a4dde18361847dd845e9ed2da070e40",
       "version_major": 2,
       "version_minor": 0
      },
      "text/plain": [
       "0it [00:00, ?it/s]"
      ]
     },
     "metadata": {},
     "output_type": "display_data"
    },
    {
     "name": "stdout",
     "output_type": "stream",
     "text": [
      "{'train_runtime': 2.0619, 'train_samples_per_second': 0.0, 'train_steps_per_second': 0.0, 'train_loss': 0.0, 'epoch': 0}\n"
     ]
    },
    {
     "data": {
      "text/plain": [
       "TrainOutput(global_step=0, training_loss=0.0, metrics={'train_runtime': 2.0619, 'train_samples_per_second': 0.0, 'train_steps_per_second': 0.0, 'total_flos': 0, 'train_loss': 0.0, 'epoch': 0})"
      ]
     },
     "execution_count": 14,
     "metadata": {},
     "output_type": "execute_result"
    }
   ],
   "source": [
    "trainer.train()"
   ]
  },
  {
   "cell_type": "code",
   "execution_count": 15,
   "metadata": {},
   "outputs": [
    {
     "data": {
      "application/vnd.jupyter.widget-view+json": {
       "model_id": "1a0edbdc45e4448cadac6362d1964670",
       "version_major": 2,
       "version_minor": 0
      },
      "text/plain": [
       "  0%|          | 0/2 [00:00<?, ?it/s]"
      ]
     },
     "metadata": {},
     "output_type": "display_data"
    },
    {
     "data": {
      "text/plain": [
       "{'eval_loss': 10.764432907104492,\n",
       " 'eval_rouge1': 0.15179738562091505,\n",
       " 'eval_rouge2': 0.02857142857142857,\n",
       " 'eval_rougeL': 0.1400326797385621,\n",
       " 'eval_rougeLsum': 0.15179738562091505,\n",
       " 'eval_runtime': 1.8834,\n",
       " 'eval_samples_per_second': 1.062,\n",
       " 'eval_steps_per_second': 1.062,\n",
       " 'epoch': 0}"
      ]
     },
     "execution_count": 15,
     "metadata": {},
     "output_type": "execute_result"
    }
   ],
   "source": [
    "trainer.evaluate()"
   ]
  },
  {
   "cell_type": "code",
   "execution_count": 16,
   "metadata": {},
   "outputs": [],
   "source": [
    "class Test_Medical_Dataset(Dataset):\n",
    "    def __init__(self,tokenizer:AutoTokenizer,test_data):\n",
    "        self.data = test_data\n",
    "        self.tokenizer = tokenizer\n",
    "        \n",
    "    def __len__(self):\n",
    "        return self.data.shape[0]\n",
    "    \n",
    "    def __getitem__(self,id):\n",
    "        sentence = self.data.at[id,'Abstracts']\n",
    "        encoding = self.tokenizer(sentence, return_tensors='pt', padding='max_length', truncation=True, max_length=4096)\n",
    "        global_attention_mask = [[1 if y in [tokenizer.cls_token_id, docsep_token_id] else 0 for y in x]\n",
    "                                                 for x in encoding['input_ids']]\n",
    "        return {\n",
    "            'input_ids': encoding['input_ids'].squeeze(0), # Squeeze to remove the extra dimension\n",
    "            'attention_mask': encoding['attention_mask'].squeeze(0),\n",
    "            'global_attention_mask': torch.tensor(global_attention_mask).squeeze(0),\n",
    "        }"
   ]
  },
  {
   "cell_type": "code",
   "execution_count": 20,
   "metadata": {},
   "outputs": [
    {
     "data": {
      "text/plain": [
       "{'input_ids': tensor([    0,   250,   910,  ..., 15981,   479,     2]),\n",
       " 'attention_mask': tensor([1, 1, 1,  ..., 1, 1, 1]),\n",
       " 'global_attention_mask': tensor([1, 0, 0,  ..., 0, 0, 0])}"
      ]
     },
     "execution_count": 20,
     "metadata": {},
     "output_type": "execute_result"
    }
   ],
   "source": [
    "ms2_test_input = pd.read_csv(\"datasets/mslr_data/ms2/test-inputs.csv\")\n",
    "ms2_test_input['Abstract'].fillna(\"\",inplace = True)\n",
    "ms2_test_input = ms2_test_input.groupby('ReviewID').apply(lambda group: f\"{DOC_SEP_}\".join(group['Abstract'].tolist()) + f\"{DOC_SEP_}\").reset_index(name = \"Abstracts\")\n",
    "test_dataset = Test_Medical_Dataset(tokenizer,ms2_test_input)\n",
    "test_dataloader = torch.utils.data.DataLoader(test_dataset, batch_size=1, shuffle=False)"
   ]
  },
  {
   "cell_type": "code",
   "execution_count": null,
   "metadata": {},
   "outputs": [],
   "source": [
    "res = []"
   ]
  },
  {
   "cell_type": "code",
   "execution_count": 21,
   "metadata": {},
   "outputs": [],
   "source": [
    "for k in test_dataloader:\n",
    "    gen = model.generate(input_ids=k['input_ids'].unsqueeze(0).to(device),attention_mask=k['attention_mask'].unsqueeze(0).to(device),global_attention_mask=k['global_attention_mask'].unsqueeze(0).to(device),max_length=1024, num_beams=4, early_stopping=True)\n",
    "    generated_sentence = tokenizer.decode(gen[0], skip_special_tokens=True)\n",
    "    res.append(generated_sentence)"
   ]
  },
  {
   "cell_type": "code",
   "execution_count": 16,
   "metadata": {},
   "outputs": [],
   "source": [
    "# trainer.save_model(\"./finetuned-electra\")\n",
    "# tokenizer.save_pretrained(\"./finetuned-electra\")"
   ]
  }
 ],
 "metadata": {
  "kernelspec": {
   "display_name": "Python 3",
   "language": "python",
   "name": "python3"
  },
  "language_info": {
   "codemirror_mode": {
    "name": "ipython",
    "version": 3
   },
   "file_extension": ".py",
   "mimetype": "text/x-python",
   "name": "python",
   "nbconvert_exporter": "python",
   "pygments_lexer": "ipython3",
   "version": "3.11.3"
  }
 },
 "nbformat": 4,
 "nbformat_minor": 2
}
