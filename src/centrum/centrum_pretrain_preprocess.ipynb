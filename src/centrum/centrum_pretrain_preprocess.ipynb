{
 "cells": [
  {
   "cell_type": "code",
   "execution_count": null,
   "id": "cbc6ba04",
   "metadata": {},
   "outputs": [],
   "source": [
    "import os\n",
    "\n",
    "if os.path.basename(os.getcwd()) != 'HUST-NLP-Medical-MultiDocument-Summarization-':\n",
    "    %cd ../../"
   ]
  },
  {
   "cell_type": "code",
   "execution_count": 10,
   "id": "826b225a",
   "metadata": {
    "execution": {
     "iopub.execute_input": "2025-03-12T07:01:13.283372Z",
     "iopub.status.busy": "2025-03-12T07:01:13.283046Z",
     "iopub.status.idle": "2025-03-12T07:01:42.943536Z",
     "shell.execute_reply": "2025-03-12T07:01:42.942654Z"
    },
    "papermill": {
     "duration": 29.666876,
     "end_time": "2025-03-12T07:01:42.945345",
     "exception": false,
     "start_time": "2025-03-12T07:01:13.278469",
     "status": "completed"
    },
    "tags": []
   },
   "outputs": [],
   "source": [
    "from sklearn.model_selection import train_test_split\n",
    "import numpy as np\n",
    "import pandas as pd\n",
    "from torch.utils.data import Dataset, DataLoader\n",
    "from transformers import LEDForConditionalGeneration\n",
    "from transformers import AutoModelForSeq2SeqLM, Seq2SeqTrainer, Seq2SeqTrainingArguments, AutoTokenizer\n",
    "import torch\n",
    "from torch.nn import CrossEntropyLoss\n",
    "from sklearn.metrics import accuracy_score,precision_score,recall_score,f1_score\n",
    "from tqdm.notebook import tqdm"
   ]
  },
  {
   "cell_type": "code",
   "execution_count": null,
   "id": "b99fd8ee",
   "metadata": {
    "execution": {
     "iopub.execute_input": "2025-03-12T07:01:42.952434Z",
     "iopub.status.busy": "2025-03-12T07:01:42.951829Z",
     "iopub.status.idle": "2025-03-12T07:01:42.961656Z",
     "shell.execute_reply": "2025-03-12T07:01:42.960757Z"
    },
    "papermill": {
     "duration": 0.014652,
     "end_time": "2025-03-12T07:01:42.963101",
     "exception": false,
     "start_time": "2025-03-12T07:01:42.948449",
     "status": "completed"
    },
    "tags": []
   },
   "outputs": [],
   "source": [
    "RANDOM_SEED = 42\n",
    "device = torch.device(\"cuda\" if torch.cuda.is_available() else \"cpu\")\n",
    "device"
   ]
  },
  {
   "cell_type": "code",
   "execution_count": null,
   "id": "cfd13aae",
   "metadata": {
    "execution": {
     "iopub.execute_input": "2025-03-12T07:01:42.969632Z",
     "iopub.status.busy": "2025-03-12T07:01:42.969303Z",
     "iopub.status.idle": "2025-03-12T07:01:47.015462Z",
     "shell.execute_reply": "2025-03-12T07:01:47.014426Z"
    },
    "papermill": {
     "duration": 4.051405,
     "end_time": "2025-03-12T07:01:47.017326",
     "exception": false,
     "start_time": "2025-03-12T07:01:42.965921",
     "status": "completed"
    },
    "tags": []
   },
   "outputs": [],
   "source": [
    "PATH = 'allenai/led-base-16384'\n",
    "tokenizer = AutoTokenizer.from_pretrained(PATH)\n",
    "special_tokens_dict = {'additional_special_tokens': ['<doc-sep>']}\n",
    "tokenizer.add_special_tokens(special_tokens_dict)"
   ]
  },
  {
   "cell_type": "code",
   "execution_count": null,
   "id": "5c5bd621",
   "metadata": {
    "execution": {
     "iopub.execute_input": "2025-03-12T07:01:47.025981Z",
     "iopub.status.busy": "2025-03-12T07:01:47.025609Z",
     "iopub.status.idle": "2025-03-12T07:01:53.760172Z",
     "shell.execute_reply": "2025-03-12T07:01:53.758994Z"
    },
    "papermill": {
     "duration": 6.740628,
     "end_time": "2025-03-12T07:01:53.761849",
     "exception": false,
     "start_time": "2025-03-12T07:01:47.021221",
     "status": "completed"
    },
    "tags": []
   },
   "outputs": [],
   "source": [
    "model = AutoModelForSeq2SeqLM.from_pretrained(PATH)\n",
    "model.resize_token_embeddings(len(tokenizer))"
   ]
  },
  {
   "cell_type": "code",
   "execution_count": null,
   "id": "e373349b",
   "metadata": {
    "execution": {
     "iopub.execute_input": "2025-03-12T07:01:53.771681Z",
     "iopub.status.busy": "2025-03-12T07:01:53.771318Z",
     "iopub.status.idle": "2025-03-12T07:01:53.775204Z",
     "shell.execute_reply": "2025-03-12T07:01:53.774444Z"
    },
    "papermill": {
     "duration": 0.010081,
     "end_time": "2025-03-12T07:01:53.776583",
     "exception": false,
     "start_time": "2025-03-12T07:01:53.766502",
     "status": "completed"
    },
    "tags": []
   },
   "outputs": [],
   "source": [
    "DOC_SEP_ = \"<doc-sep>\"\n",
    "docsep_token_id = tokenizer.convert_tokens_to_ids(DOC_SEP_)"
   ]
  },
  {
   "cell_type": "code",
   "execution_count": null,
   "id": "c460e55e",
   "metadata": {
    "execution": {
     "iopub.execute_input": "2025-03-12T07:01:53.784780Z",
     "iopub.status.busy": "2025-03-12T07:01:53.784430Z",
     "iopub.status.idle": "2025-03-12T07:02:10.490868Z",
     "shell.execute_reply": "2025-03-12T07:02:10.489807Z"
    },
    "papermill": {
     "duration": 16.712483,
     "end_time": "2025-03-12T07:02:10.492765",
     "exception": false,
     "start_time": "2025-03-12T07:01:53.780282",
     "status": "completed"
    },
    "tags": []
   },
   "outputs": [],
   "source": [
    "%pip install evaluate\n",
    "%pip install rouge-score\n",
    "import evaluate\n",
    "rouge = evaluate.load('rouge')"
   ]
  },
  {
   "cell_type": "code",
   "execution_count": null,
   "id": "455728c3",
   "metadata": {
    "execution": {
     "iopub.execute_input": "2025-03-12T07:02:10.504829Z",
     "iopub.status.busy": "2025-03-12T07:02:10.504436Z",
     "iopub.status.idle": "2025-03-12T07:02:24.783222Z",
     "shell.execute_reply": "2025-03-12T07:02:24.782062Z"
    },
    "papermill": {
     "duration": 14.286398,
     "end_time": "2025-03-12T07:02:24.784844",
     "exception": false,
     "start_time": "2025-03-12T07:02:10.498446",
     "status": "completed"
    },
    "tags": []
   },
   "outputs": [],
   "source": [
    "cochrane_train_input = pd.read_csv(\"./datasets/mslr_data/ms2/train-inputs.csv\")\n",
    "cochrane_train_input[\"Abstract\"].fillna(\"\",inplace = True)\n",
    "\n",
    "abstract_count_agg = cochrane_train_input.groupby('ReviewID')['Abstract'].count().reset_index(name='Abstract_Count')\n",
    "\n",
    "cochrane_train_input['Combined_Abstract_Title'] = cochrane_train_input.apply(lambda row: [row['Title'],row['Abstract']], axis=1)\n",
    "cochrane_train_input = cochrane_train_input.groupby('ReviewID')['Combined_Abstract_Title'].agg(list).reset_index()\n",
    "cochrane_train_input['Abstracts'] = cochrane_train_input['Combined_Abstract_Title'].apply(lambda list_of_lists: [item for sublist in list_of_lists for item in sublist]) # Flatten\n",
    "cochrane_train_input = cochrane_train_input.drop(columns=['Combined_Abstract_Title'])\n",
    "\n",
    "cochrane_train_input = pd.merge(cochrane_train_input, abstract_count_agg, on='ReviewID', how='inner') \n",
    "cochrane_train_input.sort_values(by='Abstract_Count', inplace=True, ignore_index=True)\n",
    "hehe = cochrane_train_input.shape[0]"
   ]
  },
  {
   "cell_type": "code",
   "execution_count": 16,
   "id": "13e3f09b",
   "metadata": {
    "execution": {
     "iopub.execute_input": "2025-03-12T07:02:24.796881Z",
     "iopub.status.busy": "2025-03-12T07:02:24.796518Z",
     "iopub.status.idle": "2025-03-12T07:02:24.805330Z",
     "shell.execute_reply": "2025-03-12T07:02:24.804311Z"
    },
    "papermill": {
     "duration": 0.016739,
     "end_time": "2025-03-12T07:02:24.806977",
     "exception": false,
     "start_time": "2025-03-12T07:02:24.790238",
     "status": "completed"
    },
    "tags": []
   },
   "outputs": [],
   "source": [
    "class PT_Medical_Dataset(Dataset):\n",
    "    def __init__(self,tokenizer:AutoTokenizer,train_data):\n",
    "        self.data = train_data.loc[train_data['Abstracts'].apply(len) >= 3].copy()\n",
    "        self.data.reset_index(drop=True,inplace=True)\n",
    "        self.tokenizer = tokenizer\n",
    "        self.data[\"Target\"] = ''\n",
    "    \n",
    "        for i in tqdm(range(len(self))):\n",
    "            sentences = self.data.loc[i,\"Abstracts\"]\n",
    "            target_ids = self.calc_target_cluster(sentences)\n",
    "            target = sentences[target_ids.argmax()]\n",
    "            self.data.loc[i,'Target'] = target\n",
    "            self.data.at[i,'Abstracts'] = [k for k in sentences if k!=target]\n",
    "            self.data.at[i,'Abstracts'] = DOC_SEP_.join(self.data.at[i,'Abstracts']) + DOC_SEP_\n",
    "        \n",
    "    def __len__(self):\n",
    "        return self.data.shape[0]\n",
    "        \n",
    "    def calc_target_cluster(self,sentence):\n",
    "        res = np.zeros(len(sentence))\n",
    "        pairwise_rouge = np.zeros((len(sentence),len(sentence)))\n",
    "        for k in range(len(sentence)):\n",
    "            for l in range(k+1,len(sentence)):\n",
    "                score = rouge.compute(predictions = [sentence[k]],references = [sentence[l]],rouge_types=['rouge1','rouge2','rougeL'])\n",
    "                pairwise_rouge[k][l] = sum(score.values())/3\n",
    "                pairwise_rouge[l][k] = sum(score.values())/3\n",
    "            \n",
    "        for k in range(len(sentence)):\n",
    "            res[k] = sum(pairwise_rouge[k])/len(sentence)\n",
    "        return res"
   ]
  },
  {
   "cell_type": "code",
   "execution_count": null,
   "id": "a8cf805c",
   "metadata": {
    "execution": {
     "iopub.execute_input": "2025-03-12T07:02:24.818996Z",
     "iopub.status.busy": "2025-03-12T07:02:24.818616Z"
    },
    "papermill": {
     "duration": null,
     "end_time": null,
     "exception": false,
     "start_time": "2025-03-12T07:02:24.812408",
     "status": "running"
    },
    "tags": []
   },
   "outputs": [],
   "source": [
    "for num in range(0,hehe,500):\n",
    "    cochrane_train_input_2 = cochrane_train_input.loc[num:num+499,:]\n",
    "    print(cochrane_train_input_2.shape)\n",
    "    train_dataset = PT_Medical_Dataset(tokenizer,cochrane_train_input_2)\n",
    "    cochrane_train_input_2 = train_dataset.data\n",
    "    cochrane_train_input_2.to_csv(f\"./datasets/mslr_data/ms2/hehe{num}.csv\",index=False)\n",
    "    print(num)"
   ]
  },
  {
   "cell_type": "code",
   "execution_count": 18,
   "id": "2c9f5211",
   "metadata": {},
   "outputs": [],
   "source": [
    "final = pd.read_csv(\"./datasets/mslr_data/ms2/hehe0.csv\")"
   ]
  },
  {
   "cell_type": "code",
   "execution_count": 19,
   "id": "c943d87b",
   "metadata": {},
   "outputs": [],
   "source": [
    "for num in range(500,hehe,500):\n",
    "    final = pd.concat([final,pd.read_csv(f\"./datasets/mslr_data/ms2/hehe{num}.csv\")],ignore_index=True)"
   ]
  },
  {
   "cell_type": "code",
   "execution_count": 20,
   "id": "91baf49f",
   "metadata": {},
   "outputs": [],
   "source": [
    "final.to_csv(\"./datasets/mslr_data/ms2/train-inputs-pretrain.csv\")"
   ]
  },
  {
   "cell_type": "code",
   "execution_count": null,
   "id": "128bf209",
   "metadata": {},
   "outputs": [],
   "source": [
    "final"
   ]
  }
 ],
 "metadata": {
  "kaggle": {
   "accelerator": "none",
   "dataSources": [
    {
     "datasetId": 6844177,
     "sourceId": 10995226,
     "sourceType": "datasetVersion"
    }
   ],
   "dockerImageVersionId": 30919,
   "isGpuEnabled": false,
   "isInternetEnabled": true,
   "language": "python",
   "sourceType": "notebook"
  },
  "kernelspec": {
   "display_name": "Python 3",
   "language": "python",
   "name": "python3"
  },
  "language_info": {
   "codemirror_mode": {
    "name": "ipython",
    "version": 3
   },
   "file_extension": ".py",
   "mimetype": "text/x-python",
   "name": "python",
   "nbconvert_exporter": "python",
   "pygments_lexer": "ipython3",
   "version": "3.11.3"
  },
  "papermill": {
   "default_parameters": {},
   "duration": null,
   "end_time": null,
   "environment_variables": {},
   "exception": null,
   "input_path": "__notebook__.ipynb",
   "output_path": "__notebook__.ipynb",
   "parameters": {},
   "start_time": "2025-03-12T07:01:10.576943",
   "version": "2.6.0"
  }
 },
 "nbformat": 4,
 "nbformat_minor": 5
}
