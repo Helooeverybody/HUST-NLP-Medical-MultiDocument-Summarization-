{
 "cells": [
  {
   "cell_type": "code",
   "execution_count": 1,
   "id": "74592614",
   "metadata": {
    "execution": {
     "iopub.execute_input": "2025-04-29T03:39:41.368804Z",
     "iopub.status.busy": "2025-04-29T03:39:41.368475Z",
     "iopub.status.idle": "2025-04-29T03:40:06.337020Z",
     "shell.execute_reply": "2025-04-29T03:40:06.336328Z"
    },
    "papermill": {
     "duration": 24.974652,
     "end_time": "2025-04-29T03:40:06.338682",
     "exception": false,
     "start_time": "2025-04-29T03:39:41.364030",
     "status": "completed"
    },
    "tags": []
   },
   "outputs": [],
   "source": [
    "from transformers import PegasusXForConditionalGeneration, PegasusXConfig, Seq2SeqTrainer, Seq2SeqTrainingArguments, DataCollatorForSeq2Seq, TrainerCallback\n",
    "from datasets import load_from_disk\n",
    "from transformers import AutoTokenizer\n",
    "import torch\n",
    "from torch.utils.data import Dataset, DataLoader"
   ]
  },
  {
   "cell_type": "code",
   "execution_count": 2,
   "id": "77a3c900",
   "metadata": {
    "execution": {
     "iopub.execute_input": "2025-04-29T03:40:06.346084Z",
     "iopub.status.busy": "2025-04-29T03:40:06.345526Z",
     "iopub.status.idle": "2025-04-29T03:40:06.349097Z",
     "shell.execute_reply": "2025-04-29T03:40:06.348295Z"
    },
    "papermill": {
     "duration": 0.008285,
     "end_time": "2025-04-29T03:40:06.350399",
     "exception": false,
     "start_time": "2025-04-29T03:40:06.342114",
     "status": "completed"
    },
    "tags": []
   },
   "outputs": [],
   "source": [
    "checkpoint_path = \"/kaggle/input/m/frostedpilot/pegasus-x/transformers/default/1/checkpoint-3784\""
   ]
  },
  {
   "cell_type": "code",
   "execution_count": 3,
   "id": "e42c204b",
   "metadata": {
    "execution": {
     "iopub.execute_input": "2025-04-29T03:40:06.356798Z",
     "iopub.status.busy": "2025-04-29T03:40:06.356582Z",
     "iopub.status.idle": "2025-04-29T03:40:06.555285Z",
     "shell.execute_reply": "2025-04-29T03:40:06.554607Z"
    },
    "papermill": {
     "duration": 0.203537,
     "end_time": "2025-04-29T03:40:06.556821",
     "exception": false,
     "start_time": "2025-04-29T03:40:06.353284",
     "status": "completed"
    },
    "tags": []
   },
   "outputs": [],
   "source": [
    "train_data = load_from_disk('/kaggle/input/mslr2022/uncleaned_mslr/mslr_train')\n",
    "test_data = load_from_disk('/kaggle/input/mslr2022/uncleaned_mslr/mslr_test')\n",
    "infer_data = load_from_disk('/kaggle/input/mslr2022/uncleaned_mslr/mslr_inference')"
   ]
  },
  {
   "cell_type": "code",
   "execution_count": 4,
   "id": "34b50ae6",
   "metadata": {
    "execution": {
     "iopub.execute_input": "2025-04-29T03:40:06.563763Z",
     "iopub.status.busy": "2025-04-29T03:40:06.563535Z",
     "iopub.status.idle": "2025-04-29T03:40:13.572349Z",
     "shell.execute_reply": "2025-04-29T03:40:13.571569Z"
    },
    "papermill": {
     "duration": 7.013775,
     "end_time": "2025-04-29T03:40:13.573822",
     "exception": false,
     "start_time": "2025-04-29T03:40:06.560047",
     "status": "completed"
    },
    "tags": []
   },
   "outputs": [],
   "source": [
    "train_data = train_data.to_pandas()\n",
    "test_data = test_data.to_pandas()\n",
    "infer_data = infer_data.to_pandas()"
   ]
  },
  {
   "cell_type": "code",
   "execution_count": 5,
   "id": "6aeedf00",
   "metadata": {
    "execution": {
     "iopub.execute_input": "2025-04-29T03:40:13.580749Z",
     "iopub.status.busy": "2025-04-29T03:40:13.580514Z",
     "iopub.status.idle": "2025-04-29T03:40:13.583672Z",
     "shell.execute_reply": "2025-04-29T03:40:13.583033Z"
    },
    "papermill": {
     "duration": 0.007722,
     "end_time": "2025-04-29T03:40:13.584778",
     "exception": false,
     "start_time": "2025-04-29T03:40:13.577056",
     "status": "completed"
    },
    "tags": []
   },
   "outputs": [],
   "source": [
    "MAX_INPUT_LENGTH=4096\n",
    "MAX_OUTPUT_LENGTH=512\n",
    "NON_MASK_RATIO=0.5"
   ]
  },
  {
   "cell_type": "code",
   "execution_count": 6,
   "id": "8dd30947",
   "metadata": {
    "execution": {
     "iopub.execute_input": "2025-04-29T03:40:13.591274Z",
     "iopub.status.busy": "2025-04-29T03:40:13.591065Z",
     "iopub.status.idle": "2025-04-29T03:40:15.750857Z",
     "shell.execute_reply": "2025-04-29T03:40:15.750062Z"
    },
    "papermill": {
     "duration": 2.164501,
     "end_time": "2025-04-29T03:40:15.752175",
     "exception": false,
     "start_time": "2025-04-29T03:40:13.587674",
     "status": "completed"
    },
    "tags": []
   },
   "outputs": [
    {
     "data": {
      "application/vnd.jupyter.widget-view+json": {
       "model_id": "1b4ae5bbf90e4e8b841a3d97a9198d58",
       "version_major": 2,
       "version_minor": 0
      },
      "text/plain": [
       "tokenizer_config.json:   0%|          | 0.00/2.02k [00:00<?, ?B/s]"
      ]
     },
     "metadata": {},
     "output_type": "display_data"
    },
    {
     "data": {
      "application/vnd.jupyter.widget-view+json": {
       "model_id": "04113e8212b947609e9ec6f834b1b835",
       "version_major": 2,
       "version_minor": 0
      },
      "text/plain": [
       "spiece.model:   0%|          | 0.00/1.91M [00:00<?, ?B/s]"
      ]
     },
     "metadata": {},
     "output_type": "display_data"
    },
    {
     "data": {
      "application/vnd.jupyter.widget-view+json": {
       "model_id": "af55146f05704b48b07b8a39b0716120",
       "version_major": 2,
       "version_minor": 0
      },
      "text/plain": [
       "tokenizer.json:   0%|          | 0.00/6.60M [00:00<?, ?B/s]"
      ]
     },
     "metadata": {},
     "output_type": "display_data"
    },
    {
     "data": {
      "application/vnd.jupyter.widget-view+json": {
       "model_id": "32672c6417364299879b66a7101462fe",
       "version_major": 2,
       "version_minor": 0
      },
      "text/plain": [
       "special_tokens_map.json:   0%|          | 0.00/1.77k [00:00<?, ?B/s]"
      ]
     },
     "metadata": {},
     "output_type": "display_data"
    },
    {
     "data": {
      "text/plain": [
       "1"
      ]
     },
     "execution_count": 6,
     "metadata": {},
     "output_type": "execute_result"
    }
   ],
   "source": [
    "tokenizer = AutoTokenizer.from_pretrained(\"google/pegasus-x-base\")\n",
    "tokenizer.add_special_tokens({'additional_special_tokens': ['<SEP>']})"
   ]
  },
  {
   "cell_type": "code",
   "execution_count": 7,
   "id": "986634b5",
   "metadata": {
    "execution": {
     "iopub.execute_input": "2025-04-29T03:40:15.760286Z",
     "iopub.status.busy": "2025-04-29T03:40:15.760061Z",
     "iopub.status.idle": "2025-04-29T03:40:15.766379Z",
     "shell.execute_reply": "2025-04-29T03:40:15.765742Z"
    },
    "papermill": {
     "duration": 0.011557,
     "end_time": "2025-04-29T03:40:15.767549",
     "exception": false,
     "start_time": "2025-04-29T03:40:15.755992",
     "status": "completed"
    },
    "tags": []
   },
   "outputs": [],
   "source": [
    "def get_src_tgt_and_mask(truncated_docs,target,tokenizer,max_len_input,max_len_output):\n",
    "    src=tokenizer(truncated_docs,max_length=max_len_input,padding=\"max_length\",truncation=True)\n",
    "    tgt=tokenizer(target,max_length=max_len_output,padding=\"max_length\",truncation=True)\n",
    "    input_ids=src.input_ids\n",
    "    global_attention_mask=[0 for _ in range(len(input_ids))]\n",
    "    global_attention_mask[input_ids==tokenizer.vocab[\"<SEP>\"]]=1\n",
    "    global_attention_mask[0]=1\n",
    "    labels=tgt.input_ids\n",
    "    labels = [label if label != tokenizer.pad_token_id else -100 for label in labels] \n",
    "    return {\n",
    "        \"input_ids\":torch.tensor(input_ids,dtype=torch.long),\n",
    "        \"attention_mask\":torch.tensor(src.attention_mask,dtype=torch.long),\n",
    "        \"global_attention_mask\":torch.tensor(global_attention_mask,dtype=torch.long),\n",
    "        \"labels\":torch.tensor(labels,dtype=torch.long)\n",
    "    }\n",
    "class PegasusDataset(Dataset):\n",
    "    def __init__(self,data,tokenizer,max_input_len=4096,max_output_len=512):\n",
    "        self.data=data\n",
    "        self.max_input_len=max_input_len\n",
    "        self.max_output_len=max_output_len\n",
    "        self.tokenizer=tokenizer\n",
    "    def __len__(self):\n",
    "        return self.data.shape[0]\n",
    "    def __getitem__(self,index):\n",
    "        row=self.data.loc[index]\n",
    "        data=get_src_tgt_and_mask(row[\"title_abstract\"],row[\"target\"],self.tokenizer,self.max_input_len,self.max_output_len)\n",
    "        return data"
   ]
  },
  {
   "cell_type": "code",
   "execution_count": 8,
   "id": "3df66cc4",
   "metadata": {
    "execution": {
     "iopub.execute_input": "2025-04-29T03:40:15.775284Z",
     "iopub.status.busy": "2025-04-29T03:40:15.775069Z",
     "iopub.status.idle": "2025-04-29T03:40:15.778247Z",
     "shell.execute_reply": "2025-04-29T03:40:15.777650Z"
    },
    "papermill": {
     "duration": 0.00828,
     "end_time": "2025-04-29T03:40:15.779350",
     "exception": false,
     "start_time": "2025-04-29T03:40:15.771070",
     "status": "completed"
    },
    "tags": []
   },
   "outputs": [],
   "source": [
    "train_dataset = PegasusDataset(train_data, tokenizer)\n",
    "val_dataset = PegasusDataset(test_data, tokenizer)\n",
    "infer_dataset = PegasusDataset(infer_data, tokenizer)"
   ]
  },
  {
   "cell_type": "code",
   "execution_count": 9,
   "id": "777a49af",
   "metadata": {
    "execution": {
     "iopub.execute_input": "2025-04-29T03:40:15.786995Z",
     "iopub.status.busy": "2025-04-29T03:40:15.786756Z",
     "iopub.status.idle": "2025-04-29T03:40:16.733551Z",
     "shell.execute_reply": "2025-04-29T03:40:16.732811Z"
    },
    "papermill": {
     "duration": 0.952201,
     "end_time": "2025-04-29T03:40:16.735163",
     "exception": false,
     "start_time": "2025-04-29T03:40:15.782962",
     "status": "completed"
    },
    "tags": []
   },
   "outputs": [],
   "source": [
    "config = PegasusXConfig.from_pretrained(checkpoint_path)\n",
    "model = PegasusXForConditionalGeneration.from_pretrained(checkpoint_path, config=config)"
   ]
  },
  {
   "cell_type": "code",
   "execution_count": 10,
   "id": "c7be40aa",
   "metadata": {
    "execution": {
     "iopub.execute_input": "2025-04-29T03:40:16.744181Z",
     "iopub.status.busy": "2025-04-29T03:40:16.743927Z",
     "iopub.status.idle": "2025-04-29T03:40:16.768200Z",
     "shell.execute_reply": "2025-04-29T03:40:16.767322Z"
    },
    "papermill": {
     "duration": 0.030429,
     "end_time": "2025-04-29T03:40:16.769550",
     "exception": false,
     "start_time": "2025-04-29T03:40:16.739121",
     "status": "completed"
    },
    "tags": []
   },
   "outputs": [],
   "source": [
    "model.resize_token_embeddings(len(tokenizer))\n",
    "model.config.max_decoder_position_embeddings=512\n",
    "model.gradient_checkpointing_enable()"
   ]
  },
  {
   "cell_type": "code",
   "execution_count": 11,
   "id": "9c84226e",
   "metadata": {
    "execution": {
     "iopub.execute_input": "2025-04-29T03:40:16.777747Z",
     "iopub.status.busy": "2025-04-29T03:40:16.777518Z",
     "iopub.status.idle": "2025-04-29T03:40:26.152111Z",
     "shell.execute_reply": "2025-04-29T03:40:26.151328Z"
    },
    "papermill": {
     "duration": 9.380353,
     "end_time": "2025-04-29T03:40:26.153705",
     "exception": false,
     "start_time": "2025-04-29T03:40:16.773352",
     "status": "completed"
    },
    "tags": []
   },
   "outputs": [],
   "source": [
    "batch_size=3\n",
    "num_devices=torch.cuda.device_count()\n",
    "batch_size_per_device=batch_size//num_devices\n",
    "training_args = Seq2SeqTrainingArguments(\n",
    "    predict_with_generate=True, \n",
    "    per_device_train_batch_size=batch_size_per_device,\n",
    "    per_device_eval_batch_size=batch_size_per_device,\n",
    "    output_dir=\"./results/\",\n",
    "    logging_dir=\"./logs/test/\",\n",
    "    save_strategy=\"steps\",\n",
    "    save_steps=250,\n",
    "    logging_strategy=\"steps\",\n",
    "    logging_steps=20,\n",
    "    eval_strategy=\"steps\",\n",
    "    eval_steps=250,\n",
    "    save_total_limit=2,\n",
    "    #load_best_model_at_end=True,\n",
    "    #metric_for_best_model=\"eval_loss\",\n",
    "    #greater_is_better=False,\n",
    "    gradient_accumulation_steps=5,\n",
    "    num_train_epochs=6,\n",
    "    max_grad_norm=1.0,\n",
    "    learning_rate=1e-5,\n",
    "    warmup_steps=1000,\n",
    "    lr_scheduler_type=\"linear\",\n",
    "    report_to=\"wandb\",\n",
    "    run_name=\"Restart\",\n",
    ")\n",
    "trainer = Seq2SeqTrainer(\n",
    "    model=model,\n",
    "    args=training_args,\n",
    "    train_dataset=train_dataset,\n",
    "    eval_dataset=val_dataset\n",
    ")"
   ]
  },
  {
   "cell_type": "code",
   "execution_count": 12,
   "id": "385898a7",
   "metadata": {
    "execution": {
     "iopub.execute_input": "2025-04-29T03:40:26.162230Z",
     "iopub.status.busy": "2025-04-29T03:40:26.161994Z",
     "iopub.status.idle": "2025-04-29T03:40:26.291065Z",
     "shell.execute_reply": "2025-04-29T03:40:26.290326Z"
    },
    "papermill": {
     "duration": 0.134854,
     "end_time": "2025-04-29T03:40:26.292628",
     "exception": false,
     "start_time": "2025-04-29T03:40:26.157774",
     "status": "completed"
    },
    "tags": []
   },
   "outputs": [],
   "source": [
    "import wandb\n",
    "from kaggle_secrets import UserSecretsClient\n",
    "user_secrets = UserSecretsClient()\n",
    "wandb_key = user_secrets.get_secret(\"wandb_key\")"
   ]
  },
  {
   "cell_type": "code",
   "execution_count": 13,
   "id": "9e054556",
   "metadata": {
    "execution": {
     "iopub.execute_input": "2025-04-29T03:40:26.301111Z",
     "iopub.status.busy": "2025-04-29T03:40:26.300819Z",
     "iopub.status.idle": "2025-04-29T03:40:26.304116Z",
     "shell.execute_reply": "2025-04-29T03:40:26.303436Z"
    },
    "papermill": {
     "duration": 0.008608,
     "end_time": "2025-04-29T03:40:26.305245",
     "exception": false,
     "start_time": "2025-04-29T03:40:26.296637",
     "status": "completed"
    },
    "tags": []
   },
   "outputs": [],
   "source": [
    "torch.cuda.empty_cache()"
   ]
  },
  {
   "cell_type": "code",
   "execution_count": 14,
   "id": "fe9df183",
   "metadata": {
    "execution": {
     "iopub.execute_input": "2025-04-29T03:40:26.313262Z",
     "iopub.status.busy": "2025-04-29T03:40:26.313057Z",
     "iopub.status.idle": "2025-04-29T03:40:26.968615Z",
     "shell.execute_reply": "2025-04-29T03:40:26.967789Z"
    },
    "papermill": {
     "duration": 0.661024,
     "end_time": "2025-04-29T03:40:26.969995",
     "exception": false,
     "start_time": "2025-04-29T03:40:26.308971",
     "status": "completed"
    },
    "tags": []
   },
   "outputs": [
    {
     "name": "stderr",
     "output_type": "stream",
     "text": [
      "\u001b[34m\u001b[1mwandb\u001b[0m: Using wandb-core as the SDK backend.  Please refer to https://wandb.me/wandb-core for more information.\n",
      "\u001b[34m\u001b[1mwandb\u001b[0m: Currently logged in as: \u001b[33mtuantruongvu\u001b[0m (\u001b[33mtuantruongvu-hanoi-university-of-science-and-technology\u001b[0m). Use \u001b[1m`wandb login --relogin`\u001b[0m to force relogin\n",
      "\u001b[34m\u001b[1mwandb\u001b[0m: \u001b[33mWARNING\u001b[0m If you're specifying your api key in code, ensure this code is not shared publicly.\n",
      "\u001b[34m\u001b[1mwandb\u001b[0m: \u001b[33mWARNING\u001b[0m Consider setting the WANDB_API_KEY environment variable, or running `wandb login` from the command line.\n",
      "\u001b[34m\u001b[1mwandb\u001b[0m: Appending key for api.wandb.ai to your netrc file: /root/.netrc\n"
     ]
    },
    {
     "data": {
      "text/plain": [
       "True"
      ]
     },
     "execution_count": 14,
     "metadata": {},
     "output_type": "execute_result"
    }
   ],
   "source": [
    "wandb.login(key=wandb_key)"
   ]
  },
  {
   "cell_type": "code",
   "execution_count": 15,
   "id": "2ffe1c5d",
   "metadata": {
    "execution": {
     "iopub.execute_input": "2025-04-29T03:40:26.979193Z",
     "iopub.status.busy": "2025-04-29T03:40:26.978942Z",
     "iopub.status.idle": "2025-04-29T13:51:32.554198Z",
     "shell.execute_reply": "2025-04-29T13:51:32.553118Z"
    },
    "papermill": {
     "duration": 36665.582023,
     "end_time": "2025-04-29T13:51:32.556237",
     "exception": false,
     "start_time": "2025-04-29T03:40:26.974214",
     "status": "completed"
    },
    "tags": []
   },
   "outputs": [
    {
     "name": "stderr",
     "output_type": "stream",
     "text": [
      "There were missing keys in the checkpoint model loaded: ['model.encoder.embed_tokens.weight', 'model.decoder.embed_tokens.weight', 'lm_head.weight'].\n",
      "/usr/local/lib/python3.10/dist-packages/transformers/trainer.py:3418: FutureWarning: You are using `torch.load` with `weights_only=False` (the current default value), which uses the default pickle module implicitly. It is possible to construct malicious pickle data which will execute arbitrary code during unpickling (See https://github.com/pytorch/pytorch/blob/main/SECURITY.md#untrusted-models for more details). In a future release, the default value for `weights_only` will be flipped to `True`. This limits the functions that could be executed during unpickling. Arbitrary objects will no longer be allowed to be loaded via this mode unless they are explicitly allowlisted by the user via `torch.serialization.add_safe_globals`. We recommend you start setting `weights_only=True` for any use case where you don't have full control of the loaded file. Please open an issue on GitHub for any issues related to this experimental feature.\n",
      "  torch.load(os.path.join(checkpoint, OPTIMIZER_NAME), map_location=map_location)\n",
      "\u001b[34m\u001b[1mwandb\u001b[0m: Tracking run with wandb version 0.19.1\n",
      "\u001b[34m\u001b[1mwandb\u001b[0m: Run data is saved locally in \u001b[35m\u001b[1m/kaggle/working/wandb/run-20250429_034040-4rglqfpr\u001b[0m\n",
      "\u001b[34m\u001b[1mwandb\u001b[0m: Run \u001b[1m`wandb offline`\u001b[0m to turn off syncing.\n",
      "\u001b[34m\u001b[1mwandb\u001b[0m: Syncing run \u001b[33mRestart\u001b[0m\n",
      "\u001b[34m\u001b[1mwandb\u001b[0m: ⭐️ View project at \u001b[34m\u001b[4mhttps://wandb.ai/tuantruongvu-hanoi-university-of-science-and-technology/huggingface\u001b[0m\n",
      "\u001b[34m\u001b[1mwandb\u001b[0m: 🚀 View run at \u001b[34m\u001b[4mhttps://wandb.ai/tuantruongvu-hanoi-university-of-science-and-technology/huggingface/runs/4rglqfpr\u001b[0m\n",
      "/usr/local/lib/python3.10/dist-packages/transformers/trainer.py:3081: FutureWarning: You are using `torch.load` with `weights_only=False` (the current default value), which uses the default pickle module implicitly. It is possible to construct malicious pickle data which will execute arbitrary code during unpickling (See https://github.com/pytorch/pytorch/blob/main/SECURITY.md#untrusted-models for more details). In a future release, the default value for `weights_only` will be flipped to `True`. This limits the functions that could be executed during unpickling. Arbitrary objects will no longer be allowed to be loaded via this mode unless they are explicitly allowlisted by the user via `torch.serialization.add_safe_globals`. We recommend you start setting `weights_only=True` for any use case where you don't have full control of the loaded file. Please open an issue on GitHub for any issues related to this experimental feature.\n",
      "  checkpoint_rng_state = torch.load(rng_file)\n"
     ]
    },
    {
     "data": {
      "text/html": [
       "\n",
       "    <div>\n",
       "      \n",
       "      <progress value='5676' max='5676' style='width:300px; height:20px; vertical-align: middle;'></progress>\n",
       "      [5676/5676 10:10:32, Epoch 6/6]\n",
       "    </div>\n",
       "    <table border=\"1\" class=\"dataframe\">\n",
       "  <thead>\n",
       " <tr style=\"text-align: left;\">\n",
       "      <th>Step</th>\n",
       "      <th>Training Loss</th>\n",
       "      <th>Validation Loss</th>\n",
       "    </tr>\n",
       "  </thead>\n",
       "  <tbody>\n",
       "    <tr>\n",
       "      <td>4000</td>\n",
       "      <td>2.963200</td>\n",
       "      <td>2.858593</td>\n",
       "    </tr>\n",
       "    <tr>\n",
       "      <td>4250</td>\n",
       "      <td>3.100100</td>\n",
       "      <td>2.855300</td>\n",
       "    </tr>\n",
       "    <tr>\n",
       "      <td>4500</td>\n",
       "      <td>3.014300</td>\n",
       "      <td>2.851815</td>\n",
       "    </tr>\n",
       "    <tr>\n",
       "      <td>4750</td>\n",
       "      <td>3.043900</td>\n",
       "      <td>2.849363</td>\n",
       "    </tr>\n",
       "    <tr>\n",
       "      <td>5000</td>\n",
       "      <td>2.992300</td>\n",
       "      <td>2.847518</td>\n",
       "    </tr>\n",
       "    <tr>\n",
       "      <td>5250</td>\n",
       "      <td>3.049900</td>\n",
       "      <td>2.846164</td>\n",
       "    </tr>\n",
       "    <tr>\n",
       "      <td>5500</td>\n",
       "      <td>3.081700</td>\n",
       "      <td>2.845488</td>\n",
       "    </tr>\n",
       "  </tbody>\n",
       "</table><p>"
      ],
      "text/plain": [
       "<IPython.core.display.HTML object>"
      ]
     },
     "metadata": {},
     "output_type": "display_data"
    },
    {
     "data": {
      "text/plain": [
       "TrainOutput(global_step=5676, training_loss=1.0028466049258855, metrics={'train_runtime': 36652.3138, 'train_samples_per_second': 2.323, 'train_steps_per_second': 0.155, 'total_flos': 4.1504592632374886e+17, 'train_loss': 1.0028466049258855, 'epoch': 6.0})"
      ]
     },
     "execution_count": 15,
     "metadata": {},
     "output_type": "execute_result"
    }
   ],
   "source": [
    "trainer.train(resume_from_checkpoint=checkpoint_path)"
   ]
  },
  {
   "cell_type": "code",
   "execution_count": 16,
   "id": "1be98c25",
   "metadata": {
    "execution": {
     "iopub.execute_input": "2025-04-29T13:51:32.656394Z",
     "iopub.status.busy": "2025-04-29T13:51:32.655968Z",
     "iopub.status.idle": "2025-04-29T13:51:32.768499Z",
     "shell.execute_reply": "2025-04-29T13:51:32.767361Z"
    },
    "papermill": {
     "duration": 0.166784,
     "end_time": "2025-04-29T13:51:32.770834",
     "exception": false,
     "start_time": "2025-04-29T13:51:32.604050",
     "status": "completed"
    },
    "tags": []
   },
   "outputs": [],
   "source": [
    "torch.cuda.empty_cache()"
   ]
  },
  {
   "cell_type": "code",
   "execution_count": 17,
   "id": "f7fda465",
   "metadata": {
    "execution": {
     "iopub.execute_input": "2025-04-29T13:51:32.829076Z",
     "iopub.status.busy": "2025-04-29T13:51:32.828622Z",
     "iopub.status.idle": "2025-04-29T13:51:32.832917Z",
     "shell.execute_reply": "2025-04-29T13:51:32.832066Z"
    },
    "papermill": {
     "duration": 0.019234,
     "end_time": "2025-04-29T13:51:32.834749",
     "exception": false,
     "start_time": "2025-04-29T13:51:32.815515",
     "status": "completed"
    },
    "tags": []
   },
   "outputs": [],
   "source": [
    "from tqdm import tqdm"
   ]
  },
  {
   "cell_type": "code",
   "execution_count": 18,
   "id": "ed89515c",
   "metadata": {
    "execution": {
     "iopub.execute_input": "2025-04-29T13:51:32.886167Z",
     "iopub.status.busy": "2025-04-29T13:51:32.885776Z",
     "iopub.status.idle": "2025-04-29T13:51:49.096776Z",
     "shell.execute_reply": "2025-04-29T13:51:49.095836Z"
    },
    "papermill": {
     "duration": 16.225817,
     "end_time": "2025-04-29T13:51:49.098259",
     "exception": false,
     "start_time": "2025-04-29T13:51:32.872442",
     "status": "completed"
    },
    "tags": []
   },
   "outputs": [
    {
     "name": "stdout",
     "output_type": "stream",
     "text": [
      "  Preparing metadata (setup.py) ... \u001b[?25l\u001b[?25hdone\r\n",
      "  Building wheel for rouge-score (setup.py) ... \u001b[?25l\u001b[?25hdone\r\n"
     ]
    }
   ],
   "source": [
    "!pip install rouge-score -q"
   ]
  },
  {
   "cell_type": "code",
   "execution_count": null,
   "id": "7d6ae458",
   "metadata": {
    "papermill": {
     "duration": 0.004495,
     "end_time": "2025-04-29T13:51:49.107800",
     "exception": false,
     "start_time": "2025-04-29T13:51:49.103305",
     "status": "completed"
    },
    "tags": []
   },
   "outputs": [],
   "source": []
  }
 ],
 "metadata": {
  "kaggle": {
   "accelerator": "gpu",
   "dataSources": [
    {
     "datasetId": 6909496,
     "sourceId": 11351759,
     "sourceType": "datasetVersion"
    },
    {
     "sourceId": 233036601,
     "sourceType": "kernelVersion"
    },
    {
     "isSourceIdPinned": true,
     "modelId": 321072,
     "modelInstanceId": 300529,
     "sourceId": 361603,
     "sourceType": "modelInstanceVersion"
    }
   ],
   "dockerImageVersionId": 30919,
   "isGpuEnabled": true,
   "isInternetEnabled": true,
   "language": "python",
   "sourceType": "notebook"
  },
  "kernelspec": {
   "display_name": "Python 3",
   "language": "python",
   "name": "python3"
  },
  "language_info": {
   "codemirror_mode": {
    "name": "ipython",
    "version": 3
   },
   "file_extension": ".py",
   "mimetype": "text/x-python",
   "name": "python",
   "nbconvert_exporter": "python",
   "pygments_lexer": "ipython3",
   "version": "3.10.12"
  },
  "papermill": {
   "default_parameters": {},
   "duration": 36734.007018,
   "end_time": "2025-04-29T13:51:52.706027",
   "environment_variables": {},
   "exception": null,
   "input_path": "__notebook__.ipynb",
   "output_path": "__notebook__.ipynb",
   "parameters": {},
   "start_time": "2025-04-29T03:39:38.699009",
   "version": "2.6.0"
  },
  "widgets": {
   "application/vnd.jupyter.widget-state+json": {
    "state": {
     "03ec650a48a5465ea2ad3ed8fb29f8e0": {
      "model_module": "@jupyter-widgets/controls",
      "model_module_version": "2.0.0",
      "model_name": "HTMLModel",
      "state": {
       "_dom_classes": [],
       "_model_module": "@jupyter-widgets/controls",
       "_model_module_version": "2.0.0",
       "_model_name": "HTMLModel",
       "_view_count": null,
       "_view_module": "@jupyter-widgets/controls",
       "_view_module_version": "2.0.0",
       "_view_name": "HTMLView",
       "description": "",
       "description_allow_html": false,
       "layout": "IPY_MODEL_1753aadae1be45b0af5df7060846b7fb",
       "placeholder": "​",
       "style": "IPY_MODEL_5a5d3d0a34e5411dacaa46bf12c4bde5",
       "tabbable": null,
       "tooltip": null,
       "value": "spiece.model: 100%"
      }
     },
     "04113e8212b947609e9ec6f834b1b835": {
      "model_module": "@jupyter-widgets/controls",
      "model_module_version": "2.0.0",
      "model_name": "HBoxModel",
      "state": {
       "_dom_classes": [],
       "_model_module": "@jupyter-widgets/controls",
       "_model_module_version": "2.0.0",
       "_model_name": "HBoxModel",
       "_view_count": null,
       "_view_module": "@jupyter-widgets/controls",
       "_view_module_version": "2.0.0",
       "_view_name": "HBoxView",
       "box_style": "",
       "children": [
        "IPY_MODEL_03ec650a48a5465ea2ad3ed8fb29f8e0",
        "IPY_MODEL_4a4917efdd5d4db9ada8fc4d1d6a5724",
        "IPY_MODEL_a860e6ec810546ff9c23a1066dda94f4"
       ],
       "layout": "IPY_MODEL_e70edce11188443d80eb1dbb79aaccfb",
       "tabbable": null,
       "tooltip": null
      }
     },
     "069db4dfcd804de8a68959291e4ccf2f": {
      "model_module": "@jupyter-widgets/base",
      "model_module_version": "2.0.0",
      "model_name": "LayoutModel",
      "state": {
       "_model_module": "@jupyter-widgets/base",
       "_model_module_version": "2.0.0",
       "_model_name": "LayoutModel",
       "_view_count": null,
       "_view_module": "@jupyter-widgets/base",
       "_view_module_version": "2.0.0",
       "_view_name": "LayoutView",
       "align_content": null,
       "align_items": null,
       "align_self": null,
       "border_bottom": null,
       "border_left": null,
       "border_right": null,
       "border_top": null,
       "bottom": null,
       "display": null,
       "flex": null,
       "flex_flow": null,
       "grid_area": null,
       "grid_auto_columns": null,
       "grid_auto_flow": null,
       "grid_auto_rows": null,
       "grid_column": null,
       "grid_gap": null,
       "grid_row": null,
       "grid_template_areas": null,
       "grid_template_columns": null,
       "grid_template_rows": null,
       "height": null,
       "justify_content": null,
       "justify_items": null,
       "left": null,
       "margin": null,
       "max_height": null,
       "max_width": null,
       "min_height": null,
       "min_width": null,
       "object_fit": null,
       "object_position": null,
       "order": null,
       "overflow": null,
       "padding": null,
       "right": null,
       "top": null,
       "visibility": null,
       "width": null
      }
     },
     "09f5729fb0d34cf0bd4cd14059ee6db3": {
      "model_module": "@jupyter-widgets/base",
      "model_module_version": "2.0.0",
      "model_name": "LayoutModel",
      "state": {
       "_model_module": "@jupyter-widgets/base",
       "_model_module_version": "2.0.0",
       "_model_name": "LayoutModel",
       "_view_count": null,
       "_view_module": "@jupyter-widgets/base",
       "_view_module_version": "2.0.0",
       "_view_name": "LayoutView",
       "align_content": null,
       "align_items": null,
       "align_self": null,
       "border_bottom": null,
       "border_left": null,
       "border_right": null,
       "border_top": null,
       "bottom": null,
       "display": null,
       "flex": null,
       "flex_flow": null,
       "grid_area": null,
       "grid_auto_columns": null,
       "grid_auto_flow": null,
       "grid_auto_rows": null,
       "grid_column": null,
       "grid_gap": null,
       "grid_row": null,
       "grid_template_areas": null,
       "grid_template_columns": null,
       "grid_template_rows": null,
       "height": null,
       "justify_content": null,
       "justify_items": null,
       "left": null,
       "margin": null,
       "max_height": null,
       "max_width": null,
       "min_height": null,
       "min_width": null,
       "object_fit": null,
       "object_position": null,
       "order": null,
       "overflow": null,
       "padding": null,
       "right": null,
       "top": null,
       "visibility": null,
       "width": null
      }
     },
     "0c2e350fc2234a8db8982dd0c4db3d4a": {
      "model_module": "@jupyter-widgets/base",
      "model_module_version": "2.0.0",
      "model_name": "LayoutModel",
      "state": {
       "_model_module": "@jupyter-widgets/base",
       "_model_module_version": "2.0.0",
       "_model_name": "LayoutModel",
       "_view_count": null,
       "_view_module": "@jupyter-widgets/base",
       "_view_module_version": "2.0.0",
       "_view_name": "LayoutView",
       "align_content": null,
       "align_items": null,
       "align_self": null,
       "border_bottom": null,
       "border_left": null,
       "border_right": null,
       "border_top": null,
       "bottom": null,
       "display": null,
       "flex": null,
       "flex_flow": null,
       "grid_area": null,
       "grid_auto_columns": null,
       "grid_auto_flow": null,
       "grid_auto_rows": null,
       "grid_column": null,
       "grid_gap": null,
       "grid_row": null,
       "grid_template_areas": null,
       "grid_template_columns": null,
       "grid_template_rows": null,
       "height": null,
       "justify_content": null,
       "justify_items": null,
       "left": null,
       "margin": null,
       "max_height": null,
       "max_width": null,
       "min_height": null,
       "min_width": null,
       "object_fit": null,
       "object_position": null,
       "order": null,
       "overflow": null,
       "padding": null,
       "right": null,
       "top": null,
       "visibility": null,
       "width": null
      }
     },
     "1672f739d16940879fc9f270edf68b27": {
      "model_module": "@jupyter-widgets/controls",
      "model_module_version": "2.0.0",
      "model_name": "ProgressStyleModel",
      "state": {
       "_model_module": "@jupyter-widgets/controls",
       "_model_module_version": "2.0.0",
       "_model_name": "ProgressStyleModel",
       "_view_count": null,
       "_view_module": "@jupyter-widgets/base",
       "_view_module_version": "2.0.0",
       "_view_name": "StyleView",
       "bar_color": null,
       "description_width": ""
      }
     },
     "1753aadae1be45b0af5df7060846b7fb": {
      "model_module": "@jupyter-widgets/base",
      "model_module_version": "2.0.0",
      "model_name": "LayoutModel",
      "state": {
       "_model_module": "@jupyter-widgets/base",
       "_model_module_version": "2.0.0",
       "_model_name": "LayoutModel",
       "_view_count": null,
       "_view_module": "@jupyter-widgets/base",
       "_view_module_version": "2.0.0",
       "_view_name": "LayoutView",
       "align_content": null,
       "align_items": null,
       "align_self": null,
       "border_bottom": null,
       "border_left": null,
       "border_right": null,
       "border_top": null,
       "bottom": null,
       "display": null,
       "flex": null,
       "flex_flow": null,
       "grid_area": null,
       "grid_auto_columns": null,
       "grid_auto_flow": null,
       "grid_auto_rows": null,
       "grid_column": null,
       "grid_gap": null,
       "grid_row": null,
       "grid_template_areas": null,
       "grid_template_columns": null,
       "grid_template_rows": null,
       "height": null,
       "justify_content": null,
       "justify_items": null,
       "left": null,
       "margin": null,
       "max_height": null,
       "max_width": null,
       "min_height": null,
       "min_width": null,
       "object_fit": null,
       "object_position": null,
       "order": null,
       "overflow": null,
       "padding": null,
       "right": null,
       "top": null,
       "visibility": null,
       "width": null
      }
     },
     "1b4ae5bbf90e4e8b841a3d97a9198d58": {
      "model_module": "@jupyter-widgets/controls",
      "model_module_version": "2.0.0",
      "model_name": "HBoxModel",
      "state": {
       "_dom_classes": [],
       "_model_module": "@jupyter-widgets/controls",
       "_model_module_version": "2.0.0",
       "_model_name": "HBoxModel",
       "_view_count": null,
       "_view_module": "@jupyter-widgets/controls",
       "_view_module_version": "2.0.0",
       "_view_name": "HBoxView",
       "box_style": "",
       "children": [
        "IPY_MODEL_eb8145aa4ba2457e8277b03db41615d1",
        "IPY_MODEL_3c12365ba4d44b78848ccafe1058a7a9",
        "IPY_MODEL_9c352431ad6542b181f47d86c266b075"
       ],
       "layout": "IPY_MODEL_7276f641b7814c60bf03ca5d7cb730d6",
       "tabbable": null,
       "tooltip": null
      }
     },
     "27f92311bf7642789c0079206fe9cd46": {
      "model_module": "@jupyter-widgets/controls",
      "model_module_version": "2.0.0",
      "model_name": "FloatProgressModel",
      "state": {
       "_dom_classes": [],
       "_model_module": "@jupyter-widgets/controls",
       "_model_module_version": "2.0.0",
       "_model_name": "FloatProgressModel",
       "_view_count": null,
       "_view_module": "@jupyter-widgets/controls",
       "_view_module_version": "2.0.0",
       "_view_name": "ProgressView",
       "bar_style": "success",
       "description": "",
       "description_allow_html": false,
       "layout": "IPY_MODEL_9a58a4a63b9e41889452c8254473bd70",
       "max": 6603131.0,
       "min": 0.0,
       "orientation": "horizontal",
       "style": "IPY_MODEL_9145d6ae6f01474295be6ce6db949bf3",
       "tabbable": null,
       "tooltip": null,
       "value": 6603131.0
      }
     },
     "2819f6243d1b4deb939877c5b3a6876f": {
      "model_module": "@jupyter-widgets/controls",
      "model_module_version": "2.0.0",
      "model_name": "HTMLStyleModel",
      "state": {
       "_model_module": "@jupyter-widgets/controls",
       "_model_module_version": "2.0.0",
       "_model_name": "HTMLStyleModel",
       "_view_count": null,
       "_view_module": "@jupyter-widgets/base",
       "_view_module_version": "2.0.0",
       "_view_name": "StyleView",
       "background": null,
       "description_width": "",
       "font_size": null,
       "text_color": null
      }
     },
     "28f1709036db43f39e6f49aa854c1837": {
      "model_module": "@jupyter-widgets/controls",
      "model_module_version": "2.0.0",
      "model_name": "HTMLStyleModel",
      "state": {
       "_model_module": "@jupyter-widgets/controls",
       "_model_module_version": "2.0.0",
       "_model_name": "HTMLStyleModel",
       "_view_count": null,
       "_view_module": "@jupyter-widgets/base",
       "_view_module_version": "2.0.0",
       "_view_name": "StyleView",
       "background": null,
       "description_width": "",
       "font_size": null,
       "text_color": null
      }
     },
     "32672c6417364299879b66a7101462fe": {
      "model_module": "@jupyter-widgets/controls",
      "model_module_version": "2.0.0",
      "model_name": "HBoxModel",
      "state": {
       "_dom_classes": [],
       "_model_module": "@jupyter-widgets/controls",
       "_model_module_version": "2.0.0",
       "_model_name": "HBoxModel",
       "_view_count": null,
       "_view_module": "@jupyter-widgets/controls",
       "_view_module_version": "2.0.0",
       "_view_name": "HBoxView",
       "box_style": "",
       "children": [
        "IPY_MODEL_60bb89ff00c04f058a328ea38f20ec54",
        "IPY_MODEL_465e044dc3b24e6e85a354544df407dd",
        "IPY_MODEL_73349973356f415a92072842ce06d56a"
       ],
       "layout": "IPY_MODEL_3562547985ce445d8eeb48c72600aca5",
       "tabbable": null,
       "tooltip": null
      }
     },
     "3562547985ce445d8eeb48c72600aca5": {
      "model_module": "@jupyter-widgets/base",
      "model_module_version": "2.0.0",
      "model_name": "LayoutModel",
      "state": {
       "_model_module": "@jupyter-widgets/base",
       "_model_module_version": "2.0.0",
       "_model_name": "LayoutModel",
       "_view_count": null,
       "_view_module": "@jupyter-widgets/base",
       "_view_module_version": "2.0.0",
       "_view_name": "LayoutView",
       "align_content": null,
       "align_items": null,
       "align_self": null,
       "border_bottom": null,
       "border_left": null,
       "border_right": null,
       "border_top": null,
       "bottom": null,
       "display": null,
       "flex": null,
       "flex_flow": null,
       "grid_area": null,
       "grid_auto_columns": null,
       "grid_auto_flow": null,
       "grid_auto_rows": null,
       "grid_column": null,
       "grid_gap": null,
       "grid_row": null,
       "grid_template_areas": null,
       "grid_template_columns": null,
       "grid_template_rows": null,
       "height": null,
       "justify_content": null,
       "justify_items": null,
       "left": null,
       "margin": null,
       "max_height": null,
       "max_width": null,
       "min_height": null,
       "min_width": null,
       "object_fit": null,
       "object_position": null,
       "order": null,
       "overflow": null,
       "padding": null,
       "right": null,
       "top": null,
       "visibility": null,
       "width": null
      }
     },
     "3c12365ba4d44b78848ccafe1058a7a9": {
      "model_module": "@jupyter-widgets/controls",
      "model_module_version": "2.0.0",
      "model_name": "FloatProgressModel",
      "state": {
       "_dom_classes": [],
       "_model_module": "@jupyter-widgets/controls",
       "_model_module_version": "2.0.0",
       "_model_name": "FloatProgressModel",
       "_view_count": null,
       "_view_module": "@jupyter-widgets/controls",
       "_view_module_version": "2.0.0",
       "_view_name": "ProgressView",
       "bar_style": "success",
       "description": "",
       "description_allow_html": false,
       "layout": "IPY_MODEL_09f5729fb0d34cf0bd4cd14059ee6db3",
       "max": 2018.0,
       "min": 0.0,
       "orientation": "horizontal",
       "style": "IPY_MODEL_42e527dc29074d0083da8be0276311ca",
       "tabbable": null,
       "tooltip": null,
       "value": 2018.0
      }
     },
     "402b5efe9ad1438fa1af2a38ee7862d2": {
      "model_module": "@jupyter-widgets/base",
      "model_module_version": "2.0.0",
      "model_name": "LayoutModel",
      "state": {
       "_model_module": "@jupyter-widgets/base",
       "_model_module_version": "2.0.0",
       "_model_name": "LayoutModel",
       "_view_count": null,
       "_view_module": "@jupyter-widgets/base",
       "_view_module_version": "2.0.0",
       "_view_name": "LayoutView",
       "align_content": null,
       "align_items": null,
       "align_self": null,
       "border_bottom": null,
       "border_left": null,
       "border_right": null,
       "border_top": null,
       "bottom": null,
       "display": null,
       "flex": null,
       "flex_flow": null,
       "grid_area": null,
       "grid_auto_columns": null,
       "grid_auto_flow": null,
       "grid_auto_rows": null,
       "grid_column": null,
       "grid_gap": null,
       "grid_row": null,
       "grid_template_areas": null,
       "grid_template_columns": null,
       "grid_template_rows": null,
       "height": null,
       "justify_content": null,
       "justify_items": null,
       "left": null,
       "margin": null,
       "max_height": null,
       "max_width": null,
       "min_height": null,
       "min_width": null,
       "object_fit": null,
       "object_position": null,
       "order": null,
       "overflow": null,
       "padding": null,
       "right": null,
       "top": null,
       "visibility": null,
       "width": null
      }
     },
     "42e527dc29074d0083da8be0276311ca": {
      "model_module": "@jupyter-widgets/controls",
      "model_module_version": "2.0.0",
      "model_name": "ProgressStyleModel",
      "state": {
       "_model_module": "@jupyter-widgets/controls",
       "_model_module_version": "2.0.0",
       "_model_name": "ProgressStyleModel",
       "_view_count": null,
       "_view_module": "@jupyter-widgets/base",
       "_view_module_version": "2.0.0",
       "_view_name": "StyleView",
       "bar_color": null,
       "description_width": ""
      }
     },
     "465e044dc3b24e6e85a354544df407dd": {
      "model_module": "@jupyter-widgets/controls",
      "model_module_version": "2.0.0",
      "model_name": "FloatProgressModel",
      "state": {
       "_dom_classes": [],
       "_model_module": "@jupyter-widgets/controls",
       "_model_module_version": "2.0.0",
       "_model_name": "FloatProgressModel",
       "_view_count": null,
       "_view_module": "@jupyter-widgets/controls",
       "_view_module_version": "2.0.0",
       "_view_name": "ProgressView",
       "bar_style": "success",
       "description": "",
       "description_allow_html": false,
       "layout": "IPY_MODEL_7050ff0f970647029a866525675a8afd",
       "max": 1766.0,
       "min": 0.0,
       "orientation": "horizontal",
       "style": "IPY_MODEL_1672f739d16940879fc9f270edf68b27",
       "tabbable": null,
       "tooltip": null,
       "value": 1766.0
      }
     },
     "4a4917efdd5d4db9ada8fc4d1d6a5724": {
      "model_module": "@jupyter-widgets/controls",
      "model_module_version": "2.0.0",
      "model_name": "FloatProgressModel",
      "state": {
       "_dom_classes": [],
       "_model_module": "@jupyter-widgets/controls",
       "_model_module_version": "2.0.0",
       "_model_name": "FloatProgressModel",
       "_view_count": null,
       "_view_module": "@jupyter-widgets/controls",
       "_view_module_version": "2.0.0",
       "_view_name": "ProgressView",
       "bar_style": "success",
       "description": "",
       "description_allow_html": false,
       "layout": "IPY_MODEL_ec96bbae5025472a97ed94ed894f116a",
       "max": 1912529.0,
       "min": 0.0,
       "orientation": "horizontal",
       "style": "IPY_MODEL_f7be08ee209b4b16aa4373f0f0bca2e3",
       "tabbable": null,
       "tooltip": null,
       "value": 1912529.0
      }
     },
     "4d904890e8ce45829740cc95721fd368": {
      "model_module": "@jupyter-widgets/controls",
      "model_module_version": "2.0.0",
      "model_name": "HTMLStyleModel",
      "state": {
       "_model_module": "@jupyter-widgets/controls",
       "_model_module_version": "2.0.0",
       "_model_name": "HTMLStyleModel",
       "_view_count": null,
       "_view_module": "@jupyter-widgets/base",
       "_view_module_version": "2.0.0",
       "_view_name": "StyleView",
       "background": null,
       "description_width": "",
       "font_size": null,
       "text_color": null
      }
     },
     "5a5d3d0a34e5411dacaa46bf12c4bde5": {
      "model_module": "@jupyter-widgets/controls",
      "model_module_version": "2.0.0",
      "model_name": "HTMLStyleModel",
      "state": {
       "_model_module": "@jupyter-widgets/controls",
       "_model_module_version": "2.0.0",
       "_model_name": "HTMLStyleModel",
       "_view_count": null,
       "_view_module": "@jupyter-widgets/base",
       "_view_module_version": "2.0.0",
       "_view_name": "StyleView",
       "background": null,
       "description_width": "",
       "font_size": null,
       "text_color": null
      }
     },
     "60bb89ff00c04f058a328ea38f20ec54": {
      "model_module": "@jupyter-widgets/controls",
      "model_module_version": "2.0.0",
      "model_name": "HTMLModel",
      "state": {
       "_dom_classes": [],
       "_model_module": "@jupyter-widgets/controls",
       "_model_module_version": "2.0.0",
       "_model_name": "HTMLModel",
       "_view_count": null,
       "_view_module": "@jupyter-widgets/controls",
       "_view_module_version": "2.0.0",
       "_view_name": "HTMLView",
       "description": "",
       "description_allow_html": false,
       "layout": "IPY_MODEL_f0afdbde65694e2b91bc6739bd72c1c8",
       "placeholder": "​",
       "style": "IPY_MODEL_f352f6548255421fa76a9e28196ba237",
       "tabbable": null,
       "tooltip": null,
       "value": "special_tokens_map.json: 100%"
      }
     },
     "7050ff0f970647029a866525675a8afd": {
      "model_module": "@jupyter-widgets/base",
      "model_module_version": "2.0.0",
      "model_name": "LayoutModel",
      "state": {
       "_model_module": "@jupyter-widgets/base",
       "_model_module_version": "2.0.0",
       "_model_name": "LayoutModel",
       "_view_count": null,
       "_view_module": "@jupyter-widgets/base",
       "_view_module_version": "2.0.0",
       "_view_name": "LayoutView",
       "align_content": null,
       "align_items": null,
       "align_self": null,
       "border_bottom": null,
       "border_left": null,
       "border_right": null,
       "border_top": null,
       "bottom": null,
       "display": null,
       "flex": null,
       "flex_flow": null,
       "grid_area": null,
       "grid_auto_columns": null,
       "grid_auto_flow": null,
       "grid_auto_rows": null,
       "grid_column": null,
       "grid_gap": null,
       "grid_row": null,
       "grid_template_areas": null,
       "grid_template_columns": null,
       "grid_template_rows": null,
       "height": null,
       "justify_content": null,
       "justify_items": null,
       "left": null,
       "margin": null,
       "max_height": null,
       "max_width": null,
       "min_height": null,
       "min_width": null,
       "object_fit": null,
       "object_position": null,
       "order": null,
       "overflow": null,
       "padding": null,
       "right": null,
       "top": null,
       "visibility": null,
       "width": null
      }
     },
     "7276f641b7814c60bf03ca5d7cb730d6": {
      "model_module": "@jupyter-widgets/base",
      "model_module_version": "2.0.0",
      "model_name": "LayoutModel",
      "state": {
       "_model_module": "@jupyter-widgets/base",
       "_model_module_version": "2.0.0",
       "_model_name": "LayoutModel",
       "_view_count": null,
       "_view_module": "@jupyter-widgets/base",
       "_view_module_version": "2.0.0",
       "_view_name": "LayoutView",
       "align_content": null,
       "align_items": null,
       "align_self": null,
       "border_bottom": null,
       "border_left": null,
       "border_right": null,
       "border_top": null,
       "bottom": null,
       "display": null,
       "flex": null,
       "flex_flow": null,
       "grid_area": null,
       "grid_auto_columns": null,
       "grid_auto_flow": null,
       "grid_auto_rows": null,
       "grid_column": null,
       "grid_gap": null,
       "grid_row": null,
       "grid_template_areas": null,
       "grid_template_columns": null,
       "grid_template_rows": null,
       "height": null,
       "justify_content": null,
       "justify_items": null,
       "left": null,
       "margin": null,
       "max_height": null,
       "max_width": null,
       "min_height": null,
       "min_width": null,
       "object_fit": null,
       "object_position": null,
       "order": null,
       "overflow": null,
       "padding": null,
       "right": null,
       "top": null,
       "visibility": null,
       "width": null
      }
     },
     "73349973356f415a92072842ce06d56a": {
      "model_module": "@jupyter-widgets/controls",
      "model_module_version": "2.0.0",
      "model_name": "HTMLModel",
      "state": {
       "_dom_classes": [],
       "_model_module": "@jupyter-widgets/controls",
       "_model_module_version": "2.0.0",
       "_model_name": "HTMLModel",
       "_view_count": null,
       "_view_module": "@jupyter-widgets/controls",
       "_view_module_version": "2.0.0",
       "_view_name": "HTMLView",
       "description": "",
       "description_allow_html": false,
       "layout": "IPY_MODEL_ba83db1c3e2c411e9ce14707352d2985",
       "placeholder": "​",
       "style": "IPY_MODEL_28f1709036db43f39e6f49aa854c1837",
       "tabbable": null,
       "tooltip": null,
       "value": " 1.77k/1.77k [00:00&lt;00:00, 187kB/s]"
      }
     },
     "86aadc08a22c4741bdd6b5a6daa5e88c": {
      "model_module": "@jupyter-widgets/controls",
      "model_module_version": "2.0.0",
      "model_name": "HTMLStyleModel",
      "state": {
       "_model_module": "@jupyter-widgets/controls",
       "_model_module_version": "2.0.0",
       "_model_name": "HTMLStyleModel",
       "_view_count": null,
       "_view_module": "@jupyter-widgets/base",
       "_view_module_version": "2.0.0",
       "_view_name": "StyleView",
       "background": null,
       "description_width": "",
       "font_size": null,
       "text_color": null
      }
     },
     "9145d6ae6f01474295be6ce6db949bf3": {
      "model_module": "@jupyter-widgets/controls",
      "model_module_version": "2.0.0",
      "model_name": "ProgressStyleModel",
      "state": {
       "_model_module": "@jupyter-widgets/controls",
       "_model_module_version": "2.0.0",
       "_model_name": "ProgressStyleModel",
       "_view_count": null,
       "_view_module": "@jupyter-widgets/base",
       "_view_module_version": "2.0.0",
       "_view_name": "StyleView",
       "bar_color": null,
       "description_width": ""
      }
     },
     "9a58a4a63b9e41889452c8254473bd70": {
      "model_module": "@jupyter-widgets/base",
      "model_module_version": "2.0.0",
      "model_name": "LayoutModel",
      "state": {
       "_model_module": "@jupyter-widgets/base",
       "_model_module_version": "2.0.0",
       "_model_name": "LayoutModel",
       "_view_count": null,
       "_view_module": "@jupyter-widgets/base",
       "_view_module_version": "2.0.0",
       "_view_name": "LayoutView",
       "align_content": null,
       "align_items": null,
       "align_self": null,
       "border_bottom": null,
       "border_left": null,
       "border_right": null,
       "border_top": null,
       "bottom": null,
       "display": null,
       "flex": null,
       "flex_flow": null,
       "grid_area": null,
       "grid_auto_columns": null,
       "grid_auto_flow": null,
       "grid_auto_rows": null,
       "grid_column": null,
       "grid_gap": null,
       "grid_row": null,
       "grid_template_areas": null,
       "grid_template_columns": null,
       "grid_template_rows": null,
       "height": null,
       "justify_content": null,
       "justify_items": null,
       "left": null,
       "margin": null,
       "max_height": null,
       "max_width": null,
       "min_height": null,
       "min_width": null,
       "object_fit": null,
       "object_position": null,
       "order": null,
       "overflow": null,
       "padding": null,
       "right": null,
       "top": null,
       "visibility": null,
       "width": null
      }
     },
     "9c352431ad6542b181f47d86c266b075": {
      "model_module": "@jupyter-widgets/controls",
      "model_module_version": "2.0.0",
      "model_name": "HTMLModel",
      "state": {
       "_dom_classes": [],
       "_model_module": "@jupyter-widgets/controls",
       "_model_module_version": "2.0.0",
       "_model_name": "HTMLModel",
       "_view_count": null,
       "_view_module": "@jupyter-widgets/controls",
       "_view_module_version": "2.0.0",
       "_view_name": "HTMLView",
       "description": "",
       "description_allow_html": false,
       "layout": "IPY_MODEL_069db4dfcd804de8a68959291e4ccf2f",
       "placeholder": "​",
       "style": "IPY_MODEL_f613d45a615e412ca20005dd0b28cf58",
       "tabbable": null,
       "tooltip": null,
       "value": " 2.02k/2.02k [00:00&lt;00:00, 170kB/s]"
      }
     },
     "a48242df7c344cf3a4d40e2da726e4b8": {
      "model_module": "@jupyter-widgets/controls",
      "model_module_version": "2.0.0",
      "model_name": "HTMLModel",
      "state": {
       "_dom_classes": [],
       "_model_module": "@jupyter-widgets/controls",
       "_model_module_version": "2.0.0",
       "_model_name": "HTMLModel",
       "_view_count": null,
       "_view_module": "@jupyter-widgets/controls",
       "_view_module_version": "2.0.0",
       "_view_name": "HTMLView",
       "description": "",
       "description_allow_html": false,
       "layout": "IPY_MODEL_ad8e6537e8234e80b4cdae47165898f4",
       "placeholder": "​",
       "style": "IPY_MODEL_d1641205dbc2475fa6ffaa22f6e9a836",
       "tabbable": null,
       "tooltip": null,
       "value": " 6.60M/6.60M [00:00&lt;00:00, 16.8MB/s]"
      }
     },
     "a860e6ec810546ff9c23a1066dda94f4": {
      "model_module": "@jupyter-widgets/controls",
      "model_module_version": "2.0.0",
      "model_name": "HTMLModel",
      "state": {
       "_dom_classes": [],
       "_model_module": "@jupyter-widgets/controls",
       "_model_module_version": "2.0.0",
       "_model_name": "HTMLModel",
       "_view_count": null,
       "_view_module": "@jupyter-widgets/controls",
       "_view_module_version": "2.0.0",
       "_view_name": "HTMLView",
       "description": "",
       "description_allow_html": false,
       "layout": "IPY_MODEL_0c2e350fc2234a8db8982dd0c4db3d4a",
       "placeholder": "​",
       "style": "IPY_MODEL_2819f6243d1b4deb939877c5b3a6876f",
       "tabbable": null,
       "tooltip": null,
       "value": " 1.91M/1.91M [00:00&lt;00:00, 32.3MB/s]"
      }
     },
     "ad8e6537e8234e80b4cdae47165898f4": {
      "model_module": "@jupyter-widgets/base",
      "model_module_version": "2.0.0",
      "model_name": "LayoutModel",
      "state": {
       "_model_module": "@jupyter-widgets/base",
       "_model_module_version": "2.0.0",
       "_model_name": "LayoutModel",
       "_view_count": null,
       "_view_module": "@jupyter-widgets/base",
       "_view_module_version": "2.0.0",
       "_view_name": "LayoutView",
       "align_content": null,
       "align_items": null,
       "align_self": null,
       "border_bottom": null,
       "border_left": null,
       "border_right": null,
       "border_top": null,
       "bottom": null,
       "display": null,
       "flex": null,
       "flex_flow": null,
       "grid_area": null,
       "grid_auto_columns": null,
       "grid_auto_flow": null,
       "grid_auto_rows": null,
       "grid_column": null,
       "grid_gap": null,
       "grid_row": null,
       "grid_template_areas": null,
       "grid_template_columns": null,
       "grid_template_rows": null,
       "height": null,
       "justify_content": null,
       "justify_items": null,
       "left": null,
       "margin": null,
       "max_height": null,
       "max_width": null,
       "min_height": null,
       "min_width": null,
       "object_fit": null,
       "object_position": null,
       "order": null,
       "overflow": null,
       "padding": null,
       "right": null,
       "top": null,
       "visibility": null,
       "width": null
      }
     },
     "af55146f05704b48b07b8a39b0716120": {
      "model_module": "@jupyter-widgets/controls",
      "model_module_version": "2.0.0",
      "model_name": "HBoxModel",
      "state": {
       "_dom_classes": [],
       "_model_module": "@jupyter-widgets/controls",
       "_model_module_version": "2.0.0",
       "_model_name": "HBoxModel",
       "_view_count": null,
       "_view_module": "@jupyter-widgets/controls",
       "_view_module_version": "2.0.0",
       "_view_name": "HBoxView",
       "box_style": "",
       "children": [
        "IPY_MODEL_bc41930c04e4446eb80b867f144d8bec",
        "IPY_MODEL_27f92311bf7642789c0079206fe9cd46",
        "IPY_MODEL_a48242df7c344cf3a4d40e2da726e4b8"
       ],
       "layout": "IPY_MODEL_ba282d27e5d94ed097acba92f2a16af5",
       "tabbable": null,
       "tooltip": null
      }
     },
     "af65ca85b13e420fa45bd03d549ddd3b": {
      "model_module": "@jupyter-widgets/base",
      "model_module_version": "2.0.0",
      "model_name": "LayoutModel",
      "state": {
       "_model_module": "@jupyter-widgets/base",
       "_model_module_version": "2.0.0",
       "_model_name": "LayoutModel",
       "_view_count": null,
       "_view_module": "@jupyter-widgets/base",
       "_view_module_version": "2.0.0",
       "_view_name": "LayoutView",
       "align_content": null,
       "align_items": null,
       "align_self": null,
       "border_bottom": null,
       "border_left": null,
       "border_right": null,
       "border_top": null,
       "bottom": null,
       "display": null,
       "flex": null,
       "flex_flow": null,
       "grid_area": null,
       "grid_auto_columns": null,
       "grid_auto_flow": null,
       "grid_auto_rows": null,
       "grid_column": null,
       "grid_gap": null,
       "grid_row": null,
       "grid_template_areas": null,
       "grid_template_columns": null,
       "grid_template_rows": null,
       "height": null,
       "justify_content": null,
       "justify_items": null,
       "left": null,
       "margin": null,
       "max_height": null,
       "max_width": null,
       "min_height": null,
       "min_width": null,
       "object_fit": null,
       "object_position": null,
       "order": null,
       "overflow": null,
       "padding": null,
       "right": null,
       "top": null,
       "visibility": null,
       "width": null
      }
     },
     "ba282d27e5d94ed097acba92f2a16af5": {
      "model_module": "@jupyter-widgets/base",
      "model_module_version": "2.0.0",
      "model_name": "LayoutModel",
      "state": {
       "_model_module": "@jupyter-widgets/base",
       "_model_module_version": "2.0.0",
       "_model_name": "LayoutModel",
       "_view_count": null,
       "_view_module": "@jupyter-widgets/base",
       "_view_module_version": "2.0.0",
       "_view_name": "LayoutView",
       "align_content": null,
       "align_items": null,
       "align_self": null,
       "border_bottom": null,
       "border_left": null,
       "border_right": null,
       "border_top": null,
       "bottom": null,
       "display": null,
       "flex": null,
       "flex_flow": null,
       "grid_area": null,
       "grid_auto_columns": null,
       "grid_auto_flow": null,
       "grid_auto_rows": null,
       "grid_column": null,
       "grid_gap": null,
       "grid_row": null,
       "grid_template_areas": null,
       "grid_template_columns": null,
       "grid_template_rows": null,
       "height": null,
       "justify_content": null,
       "justify_items": null,
       "left": null,
       "margin": null,
       "max_height": null,
       "max_width": null,
       "min_height": null,
       "min_width": null,
       "object_fit": null,
       "object_position": null,
       "order": null,
       "overflow": null,
       "padding": null,
       "right": null,
       "top": null,
       "visibility": null,
       "width": null
      }
     },
     "ba83db1c3e2c411e9ce14707352d2985": {
      "model_module": "@jupyter-widgets/base",
      "model_module_version": "2.0.0",
      "model_name": "LayoutModel",
      "state": {
       "_model_module": "@jupyter-widgets/base",
       "_model_module_version": "2.0.0",
       "_model_name": "LayoutModel",
       "_view_count": null,
       "_view_module": "@jupyter-widgets/base",
       "_view_module_version": "2.0.0",
       "_view_name": "LayoutView",
       "align_content": null,
       "align_items": null,
       "align_self": null,
       "border_bottom": null,
       "border_left": null,
       "border_right": null,
       "border_top": null,
       "bottom": null,
       "display": null,
       "flex": null,
       "flex_flow": null,
       "grid_area": null,
       "grid_auto_columns": null,
       "grid_auto_flow": null,
       "grid_auto_rows": null,
       "grid_column": null,
       "grid_gap": null,
       "grid_row": null,
       "grid_template_areas": null,
       "grid_template_columns": null,
       "grid_template_rows": null,
       "height": null,
       "justify_content": null,
       "justify_items": null,
       "left": null,
       "margin": null,
       "max_height": null,
       "max_width": null,
       "min_height": null,
       "min_width": null,
       "object_fit": null,
       "object_position": null,
       "order": null,
       "overflow": null,
       "padding": null,
       "right": null,
       "top": null,
       "visibility": null,
       "width": null
      }
     },
     "bc41930c04e4446eb80b867f144d8bec": {
      "model_module": "@jupyter-widgets/controls",
      "model_module_version": "2.0.0",
      "model_name": "HTMLModel",
      "state": {
       "_dom_classes": [],
       "_model_module": "@jupyter-widgets/controls",
       "_model_module_version": "2.0.0",
       "_model_name": "HTMLModel",
       "_view_count": null,
       "_view_module": "@jupyter-widgets/controls",
       "_view_module_version": "2.0.0",
       "_view_name": "HTMLView",
       "description": "",
       "description_allow_html": false,
       "layout": "IPY_MODEL_402b5efe9ad1438fa1af2a38ee7862d2",
       "placeholder": "​",
       "style": "IPY_MODEL_86aadc08a22c4741bdd6b5a6daa5e88c",
       "tabbable": null,
       "tooltip": null,
       "value": "tokenizer.json: 100%"
      }
     },
     "d1641205dbc2475fa6ffaa22f6e9a836": {
      "model_module": "@jupyter-widgets/controls",
      "model_module_version": "2.0.0",
      "model_name": "HTMLStyleModel",
      "state": {
       "_model_module": "@jupyter-widgets/controls",
       "_model_module_version": "2.0.0",
       "_model_name": "HTMLStyleModel",
       "_view_count": null,
       "_view_module": "@jupyter-widgets/base",
       "_view_module_version": "2.0.0",
       "_view_name": "StyleView",
       "background": null,
       "description_width": "",
       "font_size": null,
       "text_color": null
      }
     },
     "e70edce11188443d80eb1dbb79aaccfb": {
      "model_module": "@jupyter-widgets/base",
      "model_module_version": "2.0.0",
      "model_name": "LayoutModel",
      "state": {
       "_model_module": "@jupyter-widgets/base",
       "_model_module_version": "2.0.0",
       "_model_name": "LayoutModel",
       "_view_count": null,
       "_view_module": "@jupyter-widgets/base",
       "_view_module_version": "2.0.0",
       "_view_name": "LayoutView",
       "align_content": null,
       "align_items": null,
       "align_self": null,
       "border_bottom": null,
       "border_left": null,
       "border_right": null,
       "border_top": null,
       "bottom": null,
       "display": null,
       "flex": null,
       "flex_flow": null,
       "grid_area": null,
       "grid_auto_columns": null,
       "grid_auto_flow": null,
       "grid_auto_rows": null,
       "grid_column": null,
       "grid_gap": null,
       "grid_row": null,
       "grid_template_areas": null,
       "grid_template_columns": null,
       "grid_template_rows": null,
       "height": null,
       "justify_content": null,
       "justify_items": null,
       "left": null,
       "margin": null,
       "max_height": null,
       "max_width": null,
       "min_height": null,
       "min_width": null,
       "object_fit": null,
       "object_position": null,
       "order": null,
       "overflow": null,
       "padding": null,
       "right": null,
       "top": null,
       "visibility": null,
       "width": null
      }
     },
     "eb8145aa4ba2457e8277b03db41615d1": {
      "model_module": "@jupyter-widgets/controls",
      "model_module_version": "2.0.0",
      "model_name": "HTMLModel",
      "state": {
       "_dom_classes": [],
       "_model_module": "@jupyter-widgets/controls",
       "_model_module_version": "2.0.0",
       "_model_name": "HTMLModel",
       "_view_count": null,
       "_view_module": "@jupyter-widgets/controls",
       "_view_module_version": "2.0.0",
       "_view_name": "HTMLView",
       "description": "",
       "description_allow_html": false,
       "layout": "IPY_MODEL_af65ca85b13e420fa45bd03d549ddd3b",
       "placeholder": "​",
       "style": "IPY_MODEL_4d904890e8ce45829740cc95721fd368",
       "tabbable": null,
       "tooltip": null,
       "value": "tokenizer_config.json: 100%"
      }
     },
     "ec96bbae5025472a97ed94ed894f116a": {
      "model_module": "@jupyter-widgets/base",
      "model_module_version": "2.0.0",
      "model_name": "LayoutModel",
      "state": {
       "_model_module": "@jupyter-widgets/base",
       "_model_module_version": "2.0.0",
       "_model_name": "LayoutModel",
       "_view_count": null,
       "_view_module": "@jupyter-widgets/base",
       "_view_module_version": "2.0.0",
       "_view_name": "LayoutView",
       "align_content": null,
       "align_items": null,
       "align_self": null,
       "border_bottom": null,
       "border_left": null,
       "border_right": null,
       "border_top": null,
       "bottom": null,
       "display": null,
       "flex": null,
       "flex_flow": null,
       "grid_area": null,
       "grid_auto_columns": null,
       "grid_auto_flow": null,
       "grid_auto_rows": null,
       "grid_column": null,
       "grid_gap": null,
       "grid_row": null,
       "grid_template_areas": null,
       "grid_template_columns": null,
       "grid_template_rows": null,
       "height": null,
       "justify_content": null,
       "justify_items": null,
       "left": null,
       "margin": null,
       "max_height": null,
       "max_width": null,
       "min_height": null,
       "min_width": null,
       "object_fit": null,
       "object_position": null,
       "order": null,
       "overflow": null,
       "padding": null,
       "right": null,
       "top": null,
       "visibility": null,
       "width": null
      }
     },
     "f0afdbde65694e2b91bc6739bd72c1c8": {
      "model_module": "@jupyter-widgets/base",
      "model_module_version": "2.0.0",
      "model_name": "LayoutModel",
      "state": {
       "_model_module": "@jupyter-widgets/base",
       "_model_module_version": "2.0.0",
       "_model_name": "LayoutModel",
       "_view_count": null,
       "_view_module": "@jupyter-widgets/base",
       "_view_module_version": "2.0.0",
       "_view_name": "LayoutView",
       "align_content": null,
       "align_items": null,
       "align_self": null,
       "border_bottom": null,
       "border_left": null,
       "border_right": null,
       "border_top": null,
       "bottom": null,
       "display": null,
       "flex": null,
       "flex_flow": null,
       "grid_area": null,
       "grid_auto_columns": null,
       "grid_auto_flow": null,
       "grid_auto_rows": null,
       "grid_column": null,
       "grid_gap": null,
       "grid_row": null,
       "grid_template_areas": null,
       "grid_template_columns": null,
       "grid_template_rows": null,
       "height": null,
       "justify_content": null,
       "justify_items": null,
       "left": null,
       "margin": null,
       "max_height": null,
       "max_width": null,
       "min_height": null,
       "min_width": null,
       "object_fit": null,
       "object_position": null,
       "order": null,
       "overflow": null,
       "padding": null,
       "right": null,
       "top": null,
       "visibility": null,
       "width": null
      }
     },
     "f352f6548255421fa76a9e28196ba237": {
      "model_module": "@jupyter-widgets/controls",
      "model_module_version": "2.0.0",
      "model_name": "HTMLStyleModel",
      "state": {
       "_model_module": "@jupyter-widgets/controls",
       "_model_module_version": "2.0.0",
       "_model_name": "HTMLStyleModel",
       "_view_count": null,
       "_view_module": "@jupyter-widgets/base",
       "_view_module_version": "2.0.0",
       "_view_name": "StyleView",
       "background": null,
       "description_width": "",
       "font_size": null,
       "text_color": null
      }
     },
     "f613d45a615e412ca20005dd0b28cf58": {
      "model_module": "@jupyter-widgets/controls",
      "model_module_version": "2.0.0",
      "model_name": "HTMLStyleModel",
      "state": {
       "_model_module": "@jupyter-widgets/controls",
       "_model_module_version": "2.0.0",
       "_model_name": "HTMLStyleModel",
       "_view_count": null,
       "_view_module": "@jupyter-widgets/base",
       "_view_module_version": "2.0.0",
       "_view_name": "StyleView",
       "background": null,
       "description_width": "",
       "font_size": null,
       "text_color": null
      }
     },
     "f7be08ee209b4b16aa4373f0f0bca2e3": {
      "model_module": "@jupyter-widgets/controls",
      "model_module_version": "2.0.0",
      "model_name": "ProgressStyleModel",
      "state": {
       "_model_module": "@jupyter-widgets/controls",
       "_model_module_version": "2.0.0",
       "_model_name": "ProgressStyleModel",
       "_view_count": null,
       "_view_module": "@jupyter-widgets/base",
       "_view_module_version": "2.0.0",
       "_view_name": "StyleView",
       "bar_color": null,
       "description_width": ""
      }
     }
    },
    "version_major": 2,
    "version_minor": 0
   }
  }
 },
 "nbformat": 4,
 "nbformat_minor": 5
}
