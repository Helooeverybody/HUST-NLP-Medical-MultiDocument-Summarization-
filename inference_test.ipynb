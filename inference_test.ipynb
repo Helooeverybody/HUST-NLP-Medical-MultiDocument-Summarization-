{
 "cells": [
  {
   "cell_type": "code",
   "execution_count": 25,
   "metadata": {},
   "outputs": [],
   "source": [
    "from sklearn.model_selection import train_test_split\n",
    "import numpy as np\n",
    "import pandas as pd\n",
    "from torch.utils.data import Dataset\n",
    "from transformers import LEDForConditionalGeneration,PegasusXForConditionalGeneration\n",
    "from transformers import AutoModelForSeq2SeqLM, Seq2SeqTrainer, Seq2SeqTrainingArguments, AutoTokenizer\n",
    "import torch\n",
    "from sklearn.metrics import accuracy_score,precision_score,recall_score,f1_score\n",
    "from tqdm.notebook import tqdm\n",
    "\n",
    "RANDOM_SEED = 42\n",
    "device = torch.device(\"cuda\" if torch.cuda.is_available() else \"cpu\")"
   ]
  },
  {
   "cell_type": "code",
   "execution_count": 26,
   "metadata": {},
   "outputs": [],
   "source": [
    "models = [\"longformer\",\"centrum\",\"primera\",\"pegasus\"]\n",
    "chosen = 1\n",
    "model_name = models[chosen]"
   ]
  },
  {
   "cell_type": "code",
   "execution_count": 27,
   "metadata": {},
   "outputs": [],
   "source": [
    "import os\n",
    "os.environ['CUDA_LAUNCH_BLOCKING'] = \"1\""
   ]
  },
  {
   "cell_type": "code",
   "execution_count": 28,
   "metadata": {},
   "outputs": [],
   "source": [
    "class Test_Medical_Dataset(Dataset):\n",
    "    def __init__(self,tokenizer:AutoTokenizer,test_data,test_label,docsep):\n",
    "        self.data = test_data\n",
    "        self.label = test_label\n",
    "        self.tokenizer = tokenizer\n",
    "        self.docsep_token_id = docsep\n",
    "        \n",
    "    def __len__(self):\n",
    "        return self.data.shape[0]\n",
    "    \n",
    "    def __getitem__(self,id):\n",
    "        sentence = self.data.at[id,'Abstracts']\n",
    "        target = self.label.at[id,'Target']\n",
    "        review_id = self.data.at[id,\"ReviewID\"]\n",
    "        encoding = self.tokenizer(sentence, return_tensors='pt', padding='max_length', truncation=True, max_length=4096)\n",
    "        global_attention_mask = [[1 if y in [self.tokenizer.cls_token_id, self.docsep_token_id] else 0 for y in x]\n",
    "                                                for x in encoding['input_ids']]\n",
    "        return {\n",
    "            'input_ids': encoding['input_ids'].squeeze(0), # Squeeze to remove the extra dimension\n",
    "            'attention_mask': encoding['attention_mask'].squeeze(0),\n",
    "            'labels': target,\n",
    "            'global_attention_mask': torch.tensor(global_attention_mask).squeeze(0),\n",
    "            'abstracts': sentence,\n",
    "            'review_id': review_id\n",
    "        }\n",
    "        \n",
    "class Test_Medical_Dataset_2(Dataset):\n",
    "    def __init__(self,tokenizer:AutoTokenizer,test_data,test_label):\n",
    "        self.data = test_data\n",
    "        self.label = test_label\n",
    "        self.tokenizer = tokenizer\n",
    "        \n",
    "    def __len__(self):\n",
    "        return self.data.shape[0]\n",
    "    \n",
    "    def __getitem__(self,id):\n",
    "        sentence = self.data.at[id,'Abstracts']\n",
    "        target = self.label.at[id,'Target']\n",
    "        review_id = self.data.at[id,\"ReviewID\"]\n",
    "        encoding = self.tokenizer(sentence, return_tensors='pt', padding='max_length', truncation=True, max_length=4096)\n",
    "        return {\n",
    "            'input_ids': encoding['input_ids'].squeeze(0), # Squeeze to remove the extra dimension\n",
    "            'attention_mask': encoding['attention_mask'].squeeze(0),\n",
    "            'labels': target,\n",
    "            'abstracts': sentence,\n",
    "            'review_id': review_id\n",
    "        }\n",
    "        \n"
   ]
  },
  {
   "cell_type": "code",
   "execution_count": 29,
   "metadata": {},
   "outputs": [],
   "source": [
    "if model_name!=\"pegasus\":\n",
    "    PATH = f'./model/{model_name}'\n",
    "    tokenizer = AutoTokenizer.from_pretrained(PATH)\n",
    "    model = AutoModelForSeq2SeqLM.from_pretrained(PATH)\n",
    "    DOC_SEP_ = \"<doc-sep>\"\n",
    "    docsep_token_id = tokenizer.convert_tokens_to_ids(DOC_SEP_)\n",
    "    cochrane_dev_input = pd.read_csv(\"datasets/mslr_data/cochrane/dev-inputs.csv\")\n",
    "    cochrane_dev_input['Abstract'].fillna(\"\",inplace = True)\n",
    "    cochrane_dev_input = cochrane_dev_input.groupby('ReviewID').apply(lambda group:\"\".join([f\"{row['Title']}{DOC_SEP_}{row['Abstract']}{DOC_SEP_}\" for index, row in group.iterrows()])).reset_index(name=\"Abstracts\")\n",
    "    cochrane_dev_input.sort_values(by='ReviewID', inplace=True)\n",
    "    cochrane_dev_input.reset_index(drop=True, inplace=True)\n",
    "    cochrane_dev_target = pd.read_csv(\"datasets/mslr_data/cochrane/dev-targets.csv\")\n",
    "    cochrane_dev_target.sort_values(by='ReviewID', inplace=True)\n",
    "    cochrane_dev_target.reset_index(drop=True, inplace=True)\n",
    "\n",
    "    test_dataset = Test_Medical_Dataset(tokenizer,cochrane_dev_input,cochrane_dev_target,docsep_token_id)\n",
    "    model.to(device)\n",
    "else:\n",
    "    PATH = f'./model/{model_name}'\n",
    "    model = PegasusXForConditionalGeneration.from_pretrained(PATH)\n",
    "    tokenizer = AutoTokenizer.from_pretrained(PATH)\n",
    "\n",
    "\n",
    "    DOC_SEP_ = '<SEP>'\n",
    "    cochrane_dev_input = pd.read_csv(\"datasets/mslr_data/cochrane/dev-inputs.csv\")\n",
    "    cochrane_dev_input['Abstract'].fillna(\"\",inplace = True)\n",
    "    cochrane_dev_input = cochrane_dev_input.groupby('ReviewID').apply(lambda group:\"\".join([f\"{row['Title']}\\n{row['Abstract']}{DOC_SEP_}\" for index, row in group.iterrows()])).reset_index(name=\"Abstracts\")\n",
    "    cochrane_dev_input.sort_values(by='ReviewID', inplace=True)\n",
    "    cochrane_dev_input.reset_index(drop=True, inplace=True)\n",
    "    cochrane_dev_target = pd.read_csv(\"datasets/mslr_data/cochrane/dev-targets.csv\")\n",
    "    cochrane_dev_target.sort_values(by='ReviewID', inplace=True)\n",
    "    cochrane_dev_target.reset_index(drop=True, inplace=True)\n",
    "\n",
    "    test_dataset = Test_Medical_Dataset(tokenizer,cochrane_dev_input,cochrane_dev_target)\n",
    "    model.to(device)"
   ]
  },
  {
   "cell_type": "code",
   "execution_count": 30,
   "metadata": {},
   "outputs": [
    {
     "name": "stdout",
     "output_type": "stream",
     "text": [
      "A double-blind controlled trial of etretinate (Tigason) and ibuprofen in psoriatic arthritis.\n",
      "\n",
      "Etretinate (Tigason) and ibuprofen have been compared in a double-blind controlled trial in psoriatic arthritis to see if we could confirm a specific action for this vitamin A derivative suggested from earlier uncontrolled studies. Eleven out of 20 patients completed 24 weeks of therapy with etretinate (up to 0.5 mg/kg/day) whereas only 1/20 patients completed 24 weeks of therapy with ibuprofen alone. Etretinate improved skin lesions, and this may have encouraged patients to persist with it. Improvement of statistical significance was seen for articular index in both groups. In addition significant improvement in ESR, haemoglobin, C-reactive protein, and histidine occurred in the etretinate group. The main side effects of etretinate (which may preclude its use at a higher dose in this condition) included cracked and dried lips and sore mouth.\n",
      "\n",
      "Therapeutic value of colchicine in the treatment of patients with psoriatic arthritis.\n",
      "\n",
      "To test the hypothesis that colchicine is an effective treatment of psoriatic arthritis.\n",
      "                Twenty five patients with psoriatic arthritis were entered into a two centre, double blind, crossover study of 23 weeks' duration comparing the therapeutic effect of colchicine (0.6-1.8 mg/day) with placebo.\n",
      "                No significant difference was noted between colchicine or placebo treatment for the primary outcome measure (Lansbury joint count) or any of the seven secondary outcome measures. No change in the psoriasis was noted during active or placebo treatment. Adverse clinical effects were reported more often during treatment with colchicine (14 patients) than with the placebo (four patients), resulting in the early withdrawal of three patients receiving colchicine from the trial. Increased creatine kinase values, without weakness, occurred during treatment with colchicine (five patients) and placebo (four patients).\n",
      "                In conclusion, our study did not provide evidence that colchicine is of therapeutic value in the treatment of psoriatic arthritis.\n",
      "\n",
      "Sulfasalazine therapy for psoriatic arthritis: a double blind, placebo controlled trial.\n",
      "\n",
      "Psoriatic arthritis (PsA) is often poorly responsive to 2nd line antirheumatic drug therapy. Sulfasalazine has recently gained wide acceptance in the treatment of rheumatoid arthritis, and beneficial effects have also been noted in ankylosing spondylitis and reactive arthritis. We report a double blind placebo controlled study of sulfasalazine in PsA.\n",
      "                Twenty-four patients with active PsA were randomized to receive either sulfasalazine (3 g/day) (n = 10) or placebo (n = 14) for 8 weeks, in a double blind manner, followed by an 8 week open label crossover phase for nonresponding placebo patients.\n",
      "                Compared with placebo controls, sulfasalazine treated patients were significantly improved at Weeks 4 and 8 with respect to physician (p < 0.01) and patient (p < 0.05) global assessments. Duration of morning stiffness was significantly decreased at Week 8 (p < 0.01). Clinical variables of disease activity returned to baseline after a 4 week drug washout period in 5 evaluable patients. Six patients in the placebo group crossed over to an 8 week open label phase and demonstrated significant improvements in joint scores, 50 ft walking time, and global patient assessment. Sulfasalazine treated patients also showed significant improvements in cutaneous involvement.\n",
      "                Sulfasalazine was effective in PsA, with efficacy observed as early as the 4th week of treatment. Longterm studies are needed to determine whether such therapy can modify disease outcome.\n",
      "\n",
      "A multicentre double-blind comparison of auranofin, intramuscular gold thiomalate and placebo in patients with psoriatic arthritis.\n",
      "\n",
      "The efficacy and safety of the oral gold compound auranofin and intramuscular gold thiomalate have been compared in a placebo-controlled, double-blind, four-centre trial in 82 patients with psoriatic arthritis requiring remittive drug therapy. There were statistically significant falls in Ritchie articular index, visual analogue pain score and ESR at 12 and 24 weeks following i.m. gold but no significant changes in the auranofin group. Intramuscular gold was safe and more effective than auranofin as a second-line, suppressive antirheumatic agent for patients with psoriatic arthritis when followed for 6 months.\n",
      "\n",
      "Randomized, double-blind, placebo controlled trial of low-dose pulse methotrexate in psoriatic arthritis.\n",
      "\n",
      "Thirty-seven patients with psoriatic arthritis were entered into a 12-week prospective, controlled, double-blind multicenter trial comparing placebo and oral pulse methotrexate therapy. Methotrexate was given in a dose of 2.5-5.0 mg every 12 hours in 3 consecutive doses per week. A stable background medication program with nonsteroidal antiinflammatory drugs was allowed. Methotrexate was superior to placebo only in physician assessment of arthritis activity and in improvement of the amount of skin surface area with psoriasis. A small but statistically significant rise of serum total bilirubin occurred in the methotrexate-treated patients. No patients were withdrawn from the study for adverse drug effects.\n",
      "\n",
      "A double-blind placebo-controlled study of auranofin in patients with psoriatic arthritis.\n",
      "\n",
      "Two hundred thirty-eight patients with psoriatic arthritis were entered into a 6-month, multicenter, double-blind trial comparing auranofin and placebo. Polyarthritis (greater than 5 tender joints) was present in 90% of the patients, and 94% were seronegative. Auranofin treatment was statistically superior to placebo treatment, according to physician's global assessment and functional scores. A trend in favor of auranofin treatment was seen for each of the other disease parameters studied. Psoriasis worsened in 6 auranofin-treated patients and in 3 placebo-treated patients. The incidence and nature of other side effects were similar to those observed in similar trials of patients with rheumatoid arthritis. Our observations suggest that the use of auranofin in the treatment of psoriatic arthritis is safe, although its therapeutic advantage over treatment with nonsteroidal antiinflammatory drugs alone is modest.\n",
      "\n",
      "Fumaric acid therapy for psoriatic arthritis. A randomized, double-blind, placebo-controlled study.\n",
      "\n",
      "\n",
      "\n",
      "Comparison of sulfasalazine and placebo in the treatment of psoriatic arthritis. A Department of Veterans Affairs Cooperative Study.\n",
      "\n",
      "To determine whether sulfasalazine (SSZ) at a dosage of 2,000 mg/day is effective for the treatment of active psoriatic arthritis (PsA) resistant to nonsteroidal antiinflammatory drug therapy.\n",
      "                Two hundred twenty-one patients with PsA were recruited from 15 clinics, randomized (double-blind) to SSZ or placebo treatment, and followed up for 36 weeks. Treatment response was based on joint pain/ tenderness and swelling scores and physician and patient global assessments.\n",
      "                Longitudinal analysis revealed a trend favoring SSZ treatment (P = 0.13). At the end of treatment, response rates were 57.8% for SSZ compared with 44.6% for placebo (P = 0.05). The Westergren erythrocyte sedimentation rate declined more in the PsA patients taking SSZ than in those taking placebo (P < 0.0001). Adverse reactions were fewer than expected and were mainly due to nonspecific gastrointestinal complaints, including dyspepsia, nausea, vomiting, and diarrhea.\n",
      "                SSZ at a dosage of 2,000 mg/day is well tolerated and may be more effective than placebo in the treatment of patients with PsA.\n",
      "\n",
      "Sulphasalazine in psoriatic arthritis: a double-blind placebo-controlled study.\n",
      "\n",
      "Sulphasalazine (SASP) is now accepted as an effective slow-acting antirheumatic drug for treating active rheumatoid arthritis (RA), but has not been previously evaluated in psoriatic arthritis. An earlier open study suggested that it was well tolerated and potentially beneficial. The present double-blind placebo-controlled trial of 30 patients has now confirmed its efficacy. Greater improvement occurred in those patients on active treatment than on placebo, with more benefit being detected in those patients with the symmetrical polyarticular but seronegative pattern of arthritis associated with a high acute-phase response. SASP was stopped in 26% because of side-effects but these were mild. No exacerbation or remission of psoriasis was observed. Further studies are in progress to determine the degree of efficacy of SASP in different clinical subgroups of psoriatic arthritis.\n",
      "\n",
      "Sulphasalazine in psoriatic arthritis: a randomized, multicentre, placebo-controlled study.\n",
      "\n",
      "A prospective double-blind, placebo-controlled, randomized study of 24 weeks duration was carried out comparing the efficacy and tolerability of sulphasalazine (SSZ) versus placebo in patients with psoriatic arthritis. A total of 120 patients were included in nine centres. All patients had active disease and fulfilled the criteria of definite psoriatic arthritis of at least 3 months duration. They received either SSZ (2.0 g/day) or placebo. Efficacy variables included pain, patient's overall assessment of joint and skin improvement, morning stiffness, Ritchie articular index, ESR and CRP. An intention-to-treat (ITT) analysis was performed for the 117 patients who qualified (three patients did not qualify due to missing data after baseline). A per-protocol analysis was performed for the 81 patients who completed the 6 months study period (SSZ = 38, placebo = 43). Major reasons for withdrawal were inadequate response (SSZ = 4, placebo = 7) and adverse events (SSZ = 8, placebo = 12). Pain was the only statistically significantly different primary outcome variable at end point in favour of SSZ in the ITT analysis. No significant differences were present in other clinical or biological variables, although there was a trend in favour of SSZ for some variables. SSZ, at a dose of 2.0 g/day, appeared to be a safe treatment in patients with psoriatic arthritis. At this dosage, its efficacy was only demonstrated for the pain variable.\n",
      "\n",
      "Sulphasalazine in the management of psoriatic arthritis.\n",
      "\n",
      "There are few 'second-line' drugs available for the treatment of PSA and their use is often limited by toxicity. Thirty-nine patients with active PSA recruited from two rheumatology units were randomly allocated to either enteric-coated sulphasalazine (SASP) or placebo and followed for 24 wk. Six patients in the SASP group and 11 on placebo discontinued therapy before 24 wk. Evaluation of effect of treatment revealed significant improvements in articular index in both groups at 12 wk. By 24 wk the articular index in placebo group was still showing benefit. In addition to articular index the SASP group improved significantly in terms of visual analogue scale, duration of morning stiffness and ESR. SASP is effective in PSA but the partial clinical response to placebo indicates the importance of placebo-controlled studies in this variable disease.\n",
      "\n",
      "\n",
      "\n"
     ]
    }
   ],
   "source": [
    "k = test_dataset[13]\n",
    "for sentence in k[\"abstracts\"].split(\"<doc-sep>\"):\n",
    "    print(sentence+\"\\n\")"
   ]
  },
  {
   "cell_type": "code",
   "execution_count": 31,
   "metadata": {},
   "outputs": [
    {
     "name": "stdout",
     "output_type": "stream",
     "text": [
      "Groundtruth:Parenteral high dose methotrexate and sulfasalazine are the only two agents with well demonstrated published efficacy in psoriatic arthritis. The magnitude of the effect seen with azathioprine, etretinate, oral low dose methotrexate and perhaps colchicine suggests that they may be effective but that further multicentre clinical trials are required to establish their efficacy. Furthermore, the magnitude of the improvement observed in the placebo group strongly suggests that uncontrolled trials should not be used to guide management decisions in this condition.\n"
     ]
    }
   ],
   "source": [
    "print(\"Groundtruth: \" + k[\"labels\"])"
   ]
  },
  {
   "cell_type": "code",
   "execution_count": 32,
   "metadata": {},
   "outputs": [
    {
     "name": "stdout",
     "output_type": "stream",
     "text": [
      "Generated result:Sulphasalazine appears to be an effective treatment for psoriatic arthritis.\n"
     ]
    }
   ],
   "source": [
    "if model_name!=\"pegasus\":\n",
    "    gen = model.generate(input_ids=k['input_ids'].unsqueeze(0).to(device),attention_mask=k['attention_mask'].unsqueeze(0).to(device),global_attention_mask=k['global_attention_mask'].unsqueeze(0).to(device),max_length=1024, num_beams=4,repetition_penalty=1.15,no_repeat_ngram_size=4)\n",
    "else:\n",
    "    gen = model.generate(input_ids=k['input_ids'].unsqueeze(0).to(device),attention_mask=k['attention_mask'].unsqueeze(0).to(device),max_length=1024, num_beams=4,repetition_penalty=1.15,no_repeat_ngram_size=4)\n",
    "generated_sentence = tokenizer.decode(gen[0], skip_special_tokens=True)\n",
    "print(\"Generated result: \" + generated_sentence)"
   ]
  }
 ],
 "metadata": {
  "kernelspec": {
   "display_name": "Python 3",
   "language": "python",
   "name": "python3"
  },
  "language_info": {
   "codemirror_mode": {
    "name": "ipython",
    "version": 3
   },
   "file_extension": ".py",
   "mimetype": "text/x-python",
   "name": "python",
   "nbconvert_exporter": "python",
   "pygments_lexer": "ipython3",
   "version": "3.11.3"
  }
 },
 "nbformat": 4,
 "nbformat_minor": 2
}
